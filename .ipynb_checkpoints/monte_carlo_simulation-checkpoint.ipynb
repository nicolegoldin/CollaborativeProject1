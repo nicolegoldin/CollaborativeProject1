{
 "cells": [
  {
   "cell_type": "code",
   "execution_count": 2,
   "metadata": {},
   "outputs": [],
   "source": [
    "import numpy as np\n",
    "import pandas as pd\n",
    "from pathlib import Path\n",
    "import hvplot.pandas\n",
    "import matplotlib.pyplot as plt\n",
    "%matplotlib inline"
   ]
  },
  {
   "cell_type": "code",
   "execution_count": 9,
   "metadata": {},
   "outputs": [],
   "source": [
    "csv_path = Path('monthly_data.csv')\n",
    "monthly_df = pd.read_csv(csv_path, index_col = \"Date\")\n",
    "#monthly_df.pct_change()\n",
    "#monthly_df.dropna(inplace = True)"
   ]
  },
  {
   "cell_type": "code",
   "execution_count": null,
   "metadata": {},
   "outputs": [],
   "source": [
    "# weight = [] This will have to come from the portfolio efficiency\n",
    "# ticker = []\n",
    "portfolio_return = stock_df.dot(weights).to_frame()\n",
    "portfolio_return.columns = [\"weight\", \"ticker\"]\n",
    "portfolio_return.head()"
   ]
  },
  {
   "cell_type": "code",
   "execution_count": null,
   "metadata": {},
   "outputs": [],
   "source": [
    "portfolio_avg_return = portfolio_return.mean()['Weighted Price']\n",
    "portfolio_avg_return"
   ]
  },
  {
   "cell_type": "code",
   "execution_count": null,
   "metadata": {},
   "outputs": [],
   "source": [
    "portfolio_return = portfolio_return.pct_change()\n",
    "portfolio_return.head()"
   ]
  },
  {
   "cell_type": "code",
   "execution_count": null,
   "metadata": {},
   "outputs": [],
   "source": [
    "portfolio_volatility = portfolio_return['Weighted Price'].std() * np.sqrt(252)\n",
    "portfolio_volatility"
   ]
  },
  {
   "cell_type": "code",
   "execution_count": null,
   "metadata": {},
   "outputs": [],
   "source": [
    "portfolio_last_price = portfolio_return['Weighted Price'][-1]\n",
    "portfolio_last_price"
   ]
  },
  {
   "cell_type": "code",
   "execution_count": 7,
   "metadata": {},
   "outputs": [],
   "source": [
    "number_simulations = 500\n",
    "number_months = 12 * 5\n",
    "monte_carlo = pd.DataFrame()"
   ]
  },
  {
   "cell_type": "code",
   "execution_count": null,
   "metadata": {},
   "outputs": [],
   "source": [
    "for n in range(number_simulations):\n",
    "    simulated_portfolio_prices = [portfolio_last_price]\n",
    "    for i in range(number_months):\n",
    "        simulated_price = simulated_portfolio_prices[-1]*(1+ np.random.normal(portfolio_avg_return, portfolio_volatility))\n",
    "        simulated_portfolio_prices.append(simulated_price)\n",
    "    monte_carlo[f\"{n+1}\"] = pd.Series(simulated_portfolio_prices)\n",
    "\n",
    "monte_carlo.head()"
   ]
  },
  {
   "cell_type": "code",
   "execution_count": null,
   "metadata": {},
   "outputs": [],
   "source": []
  }
 ],
 "metadata": {
  "kernelspec": {
   "display_name": "Python 3",
   "language": "python",
   "name": "python3"
  },
  "language_info": {
   "codemirror_mode": {
    "name": "ipython",
    "version": 3
   },
   "file_extension": ".py",
   "mimetype": "text/x-python",
   "name": "python",
   "nbconvert_exporter": "python",
   "pygments_lexer": "ipython3",
   "version": "3.7.5"
  }
 },
 "nbformat": 4,
 "nbformat_minor": 4
}
