{
 "cells": [
  {
   "cell_type": "code",
   "execution_count": 3,
   "metadata": {},
   "outputs": [],
   "source": [
    "import pandas as pd\n",
    "from pathlib import Path\n",
    "import numpy as np\n",
    "import seaborn as sns\n",
    "from pandas_datareader import data as wb\n",
    "from datetime import datetime, timedelta\n",
    "import json\n",
    "import requests\n",
    "import random\n",
    "import os"
   ]
  },
  {
   "cell_type": "code",
   "execution_count": 4,
   "metadata": {},
   "outputs": [
    {
     "data": {
      "text/html": [
       "<div>\n",
       "<style scoped>\n",
       "    .dataframe tbody tr th:only-of-type {\n",
       "        vertical-align: middle;\n",
       "    }\n",
       "\n",
       "    .dataframe tbody tr th {\n",
       "        vertical-align: top;\n",
       "    }\n",
       "\n",
       "    .dataframe thead th {\n",
       "        text-align: right;\n",
       "    }\n",
       "</style>\n",
       "<table border=\"1\" class=\"dataframe\">\n",
       "  <thead>\n",
       "    <tr style=\"text-align: right;\">\n",
       "      <th></th>\n",
       "      <th>Symbol</th>\n",
       "      <th>Name</th>\n",
       "      <th>Sector</th>\n",
       "    </tr>\n",
       "  </thead>\n",
       "  <tbody>\n",
       "    <tr>\n",
       "      <th>0</th>\n",
       "      <td>MMM</td>\n",
       "      <td>3M Company</td>\n",
       "      <td>Industrials</td>\n",
       "    </tr>\n",
       "    <tr>\n",
       "      <th>1</th>\n",
       "      <td>AOS</td>\n",
       "      <td>A.O. Smith Corp</td>\n",
       "      <td>Industrials</td>\n",
       "    </tr>\n",
       "    <tr>\n",
       "      <th>2</th>\n",
       "      <td>ABT</td>\n",
       "      <td>Abbott Laboratories</td>\n",
       "      <td>Health Care</td>\n",
       "    </tr>\n",
       "    <tr>\n",
       "      <th>3</th>\n",
       "      <td>ABBV</td>\n",
       "      <td>AbbVie Inc.</td>\n",
       "      <td>Health Care</td>\n",
       "    </tr>\n",
       "    <tr>\n",
       "      <th>4</th>\n",
       "      <td>ACN</td>\n",
       "      <td>Accenture plc</td>\n",
       "      <td>Information Technology</td>\n",
       "    </tr>\n",
       "    <tr>\n",
       "      <th>...</th>\n",
       "      <td>...</td>\n",
       "      <td>...</td>\n",
       "      <td>...</td>\n",
       "    </tr>\n",
       "    <tr>\n",
       "      <th>500</th>\n",
       "      <td>XYL</td>\n",
       "      <td>Xylem Inc.</td>\n",
       "      <td>Industrials</td>\n",
       "    </tr>\n",
       "    <tr>\n",
       "      <th>501</th>\n",
       "      <td>YUM</td>\n",
       "      <td>Yum! Brands Inc</td>\n",
       "      <td>Consumer Discretionary</td>\n",
       "    </tr>\n",
       "    <tr>\n",
       "      <th>502</th>\n",
       "      <td>ZBH</td>\n",
       "      <td>Zimmer Biomet Holdings</td>\n",
       "      <td>Health Care</td>\n",
       "    </tr>\n",
       "    <tr>\n",
       "      <th>503</th>\n",
       "      <td>ZION</td>\n",
       "      <td>Zions Bancorp</td>\n",
       "      <td>Financials</td>\n",
       "    </tr>\n",
       "    <tr>\n",
       "      <th>504</th>\n",
       "      <td>ZTS</td>\n",
       "      <td>Zoetis</td>\n",
       "      <td>Health Care</td>\n",
       "    </tr>\n",
       "  </tbody>\n",
       "</table>\n",
       "<p>505 rows × 3 columns</p>\n",
       "</div>"
      ],
      "text/plain": [
       "    Symbol                    Name                  Sector\n",
       "0      MMM              3M Company             Industrials\n",
       "1      AOS         A.O. Smith Corp             Industrials\n",
       "2      ABT     Abbott Laboratories             Health Care\n",
       "3     ABBV             AbbVie Inc.             Health Care\n",
       "4      ACN           Accenture plc  Information Technology\n",
       "..     ...                     ...                     ...\n",
       "500    XYL              Xylem Inc.             Industrials\n",
       "501    YUM         Yum! Brands Inc  Consumer Discretionary\n",
       "502    ZBH  Zimmer Biomet Holdings             Health Care\n",
       "503   ZION           Zions Bancorp              Financials\n",
       "504    ZTS                  Zoetis             Health Care\n",
       "\n",
       "[505 rows x 3 columns]"
      ]
     },
     "execution_count": 4,
     "metadata": {},
     "output_type": "execute_result"
    }
   ],
   "source": [
    "csv_path = Path('S&P500.csv')\n",
    "sp500 = pd.read_csv(csv_path)\n",
    "sp500"
   ]
  },
  {
   "cell_type": "code",
   "execution_count": 5,
   "metadata": {},
   "outputs": [
    {
     "data": {
      "text/html": [
       "<div>\n",
       "<style scoped>\n",
       "    .dataframe tbody tr th:only-of-type {\n",
       "        vertical-align: middle;\n",
       "    }\n",
       "\n",
       "    .dataframe tbody tr th {\n",
       "        vertical-align: top;\n",
       "    }\n",
       "\n",
       "    .dataframe thead th {\n",
       "        text-align: right;\n",
       "    }\n",
       "</style>\n",
       "<table border=\"1\" class=\"dataframe\">\n",
       "  <thead>\n",
       "    <tr style=\"text-align: right;\">\n",
       "      <th></th>\n",
       "      <th>Symbol</th>\n",
       "      <th>Name</th>\n",
       "    </tr>\n",
       "    <tr>\n",
       "      <th>Sector</th>\n",
       "      <th></th>\n",
       "      <th></th>\n",
       "    </tr>\n",
       "  </thead>\n",
       "  <tbody>\n",
       "    <tr>\n",
       "      <th>Consumer Discretionary</th>\n",
       "      <td>84</td>\n",
       "      <td>84</td>\n",
       "    </tr>\n",
       "    <tr>\n",
       "      <th>Consumer Staples</th>\n",
       "      <td>34</td>\n",
       "      <td>34</td>\n",
       "    </tr>\n",
       "    <tr>\n",
       "      <th>Energy</th>\n",
       "      <td>32</td>\n",
       "      <td>32</td>\n",
       "    </tr>\n",
       "    <tr>\n",
       "      <th>Financials</th>\n",
       "      <td>68</td>\n",
       "      <td>68</td>\n",
       "    </tr>\n",
       "    <tr>\n",
       "      <th>Health Care</th>\n",
       "      <td>61</td>\n",
       "      <td>61</td>\n",
       "    </tr>\n",
       "    <tr>\n",
       "      <th>Industrials</th>\n",
       "      <td>67</td>\n",
       "      <td>67</td>\n",
       "    </tr>\n",
       "    <tr>\n",
       "      <th>Information Technology</th>\n",
       "      <td>70</td>\n",
       "      <td>70</td>\n",
       "    </tr>\n",
       "    <tr>\n",
       "      <th>Materials</th>\n",
       "      <td>25</td>\n",
       "      <td>25</td>\n",
       "    </tr>\n",
       "    <tr>\n",
       "      <th>Real Estate</th>\n",
       "      <td>33</td>\n",
       "      <td>33</td>\n",
       "    </tr>\n",
       "    <tr>\n",
       "      <th>Telecommunication Services</th>\n",
       "      <td>3</td>\n",
       "      <td>3</td>\n",
       "    </tr>\n",
       "    <tr>\n",
       "      <th>Utilities</th>\n",
       "      <td>28</td>\n",
       "      <td>28</td>\n",
       "    </tr>\n",
       "  </tbody>\n",
       "</table>\n",
       "</div>"
      ],
      "text/plain": [
       "                            Symbol  Name\n",
       "Sector                                  \n",
       "Consumer Discretionary          84    84\n",
       "Consumer Staples                34    34\n",
       "Energy                          32    32\n",
       "Financials                      68    68\n",
       "Health Care                     61    61\n",
       "Industrials                     67    67\n",
       "Information Technology          70    70\n",
       "Materials                       25    25\n",
       "Real Estate                     33    33\n",
       "Telecommunication Services       3     3\n",
       "Utilities                       28    28"
      ]
     },
     "execution_count": 5,
     "metadata": {},
     "output_type": "execute_result"
    }
   ],
   "source": [
    "grouped_sectors = sp500.groupby(['Sector']).count()\n",
    "grouped_sectors"
   ]
  },
  {
   "cell_type": "code",
   "execution_count": 6,
   "metadata": {},
   "outputs": [],
   "source": [
    "index = sp500.index.values.tolist()"
   ]
  },
  {
   "cell_type": "code",
   "execution_count": 7,
   "metadata": {},
   "outputs": [],
   "source": [
    "index.sort()"
   ]
  },
  {
   "cell_type": "code",
   "execution_count": 8,
   "metadata": {},
   "outputs": [],
   "source": [
    "index = ['A', 'AAL', 'AAP', 'AAPL', 'ABBV', 'ABC', 'ABT', 'ACN', 'ADBE', 'ADI', 'ADM', 'ADP', 'ADS', 'ADSK', 'AEE', 'AEP', 'AES', 'AET', \n",
    "         'AFL', 'AGN', 'AIG', 'AIV', 'AIZ', 'AJG', 'AKAM', 'ALB', 'ALGN', 'ALK', 'ALL', 'ALLE', 'ALXN', 'AMAT', 'AMD', 'AME', 'AMG', \n",
    "         'AMGN', 'AMP', 'AMT', 'AMZN', 'ANDV', 'ANSS', 'ANTM', 'AON', 'AOS', 'APA', 'APD', 'APH', 'APTV', 'ARE', 'ARNC', 'ATVI',\n",
    "         'AVB', 'AVGO', 'AVY', 'AWK', 'AXP', 'AYI', 'AZO', 'BA', 'BAC', 'BAX', 'BBT', 'BBY', 'BDX', 'BEN', 'BF.B', 'BHF', \n",
    "         'BHGE', 'BIIB', 'BK', 'BLK', 'BLL', 'BMY','BRK.B', 'BSX', 'BWA', 'BXP', 'C', 'CA', 'CAG', 'CAH', 'CAT', 'CB', 'CBG', 'CBOE', \n",
    "         'CBS', 'CCI', 'CCL', 'CDNS', 'CELG', 'CERN', 'CF', 'CFG', 'CHD', 'CHK', 'CHRW', 'CHTR', 'CI', 'CINF', 'CL', 'CLX', 'CMA',\n",
    "         'CMCSA', 'CME', 'CMG', 'CMI', 'CMS', 'CNC', 'CNP', 'COF', 'COG', 'COL', 'COO', 'COP', 'COST', 'COTY', 'CPB', 'CRM', 'CSCO',\n",
    "         'CSRA', 'CSX', 'CTAS', 'CTL', 'CTSH', 'CTXS', 'CVS', 'CVX', 'CXO', 'D', 'DAL', 'DE', 'DFS', 'DG', 'DGX', 'DHI', 'DHR',\n",
    "         'DIS', 'DISCA', 'DISCK', 'DISH', 'DLR', 'DLTR', 'DOV', 'DPS', 'DRE', 'DRI', 'DTE', 'DUK', 'DVA', 'DVN', 'DWDP', 'DXC',\n",
    "         'EA', 'EBAY', 'ECL', 'ED', 'EFX', 'EIX', 'EL', 'EMN', 'EMR', 'EOG', 'EQIX', 'EQR', 'EQT', 'ES', 'ESRX', 'ESS',  'ETFC', \n",
    "         'ETN', 'ETR', 'EVHC', 'EW', 'EXC', 'EXPD', 'EXPE', 'EXR', 'F', 'FAST', 'FB', 'FBHS', 'FCX', 'FDX', 'FE', 'FFIV',\n",
    "         'FIS', 'FISV', 'FITB','FL', 'FLIR', 'FLR', 'FLS', 'FMC', 'FOX', 'FOXA', 'FRT', 'FTI', 'FTV', 'GD', 'GE', 'GGP', 'GILD',\n",
    "         'GIS', 'GLW', 'GM', 'GOOG', 'GOOGL', 'GPC', 'GPN', 'GPS', 'GRMN', 'GS', 'GT', 'GWW', 'HAL', 'HAS', 'HBAN', 'HBI', 'HCA',\n",
    "         'HCN', 'HD', 'HES', 'HIG', 'HII', 'HLT', 'HOG', 'HOLX', 'HON', 'HP', 'HPE', 'HPQ', 'HRB', 'HRL', 'HRS', 'HSIC',\n",
    "         'HST', 'HSY', 'HUM', 'IBM', 'ICE', 'IDXX', 'IFF', 'ILMN', 'INCY', 'INFO', 'INTC', 'INTU', 'IP', 'IPG', 'IQV', 'IR',\n",
    "         'IRM', 'ISRG', 'IT', 'ITW', 'IVZ', 'JBHT', 'JCI', 'JEC', 'JNJ', 'JNPR', 'JPM', 'JWN', 'K', 'KEY', 'KHC', 'KIM', 'KLAC',\n",
    "         'KMB', 'KMI', 'KMX', 'KO', 'KORS', 'KR', 'KSS', 'KSU', 'L', 'LB', 'LEG', 'LEN', 'LH', 'LKQ', 'LLL', 'LLY', 'LMT', 'LNC',\n",
    "         'LNT', 'LOW', 'LRCX', 'LUK', 'LUV', 'LYB', 'M', 'MA', 'MAA', 'MAC', 'MAR', 'MAS', 'MAT', 'MCD', 'MCHP', 'MCK', 'MCO', 'MDLZ',\n",
    "         'MDT', 'MET', 'MGM', 'MHK', 'MKC', 'MLM', 'MMC', 'MMM', 'MNST', 'MO', 'MON', 'MOS', 'MPC', 'MRK', 'MRO', 'MS', 'MSFT',\n",
    "         'MSI', 'MTB', 'MTD', 'MU', 'MYL', 'NAVI', 'NBL', 'NCLH', 'NDAQ', 'NEE', 'NEM', 'NFLX', 'NFX', 'NI', 'NKE', 'NLSN', 'NOC',\n",
    "         'NOV', 'NRG', 'NSC', 'NTAP', 'NTRS', 'NUE', 'NVDA', 'NWL', 'NWS', 'NWSA', 'O', 'OKE', 'OMC', 'ORCL', 'ORLY', 'OXY',\n",
    "         'PAYX', 'PBCT', 'PCAR', 'PCG', 'PCLN', 'PDCO', 'PEG', 'PEP', 'PFE', 'PFG', 'PG', 'PGR', 'PH', 'PHM', 'PKG', 'PKI', 'PLD', \n",
    "         'PM', 'PNC', 'PNR', 'PNW', 'PPG', 'PPL', 'PRGO', 'PRU', 'PSA', 'PSX', 'PVH', 'PWR', 'PX', 'PXD', 'PYPL', 'QCOM', \n",
    "         'QRVO', 'RCL', 'RE', 'REG', 'REGN', 'RF', 'RHI', 'RHT', 'RJF', 'RL', 'RMD', 'ROK', 'ROP', 'ROST', 'RRC', 'RSG', 'RTN', 'SBAC', \n",
    "         'SBUX', 'SCG', 'SCHW', 'SEE', 'SHW', 'SIG', 'SJM', 'SLB', 'SLG', 'SNA', 'SNI', 'SNPS', 'SO', 'SPG', 'SPGI', 'SRCL', 'SRE', \n",
    "         'STI', 'STT', 'STX', 'STZ', 'SWK', 'SWKS', 'SYF', 'SYK', 'SYMC', 'SYY', 'T', 'TAP', 'TDG', 'TEL', 'TGT', 'TIF', 'TJX',\n",
    "         'TMK', 'TMO', 'TPR', 'TRIP', 'TROW', 'TRV', 'TSCO', 'TSN', 'TSS', 'TWX', 'TXN', 'TXT', 'UA', 'UAA', 'UAL', 'UDR', 'UHS',\n",
    "         'ULTA', 'UNH', 'UNM', 'UNP', 'UPS', 'URI', 'USB', 'UTX', 'V','VAR', 'VFC', 'VIAB', 'VLO', 'VMC', 'VNO', 'VRSK', \n",
    "         'VRSN', 'VRTX','VTR','VZ','WAT', 'WBA','WDC','WEC', 'WFC', 'WHR', 'WLTW', 'WM', 'WMB','WMT', 'WRK', 'WU', 'WY', 'WYN', \n",
    "         'WYNN', 'XEC', 'XEL', 'XL', 'XLNX', 'XOM', 'XRAY', 'XRX', 'XYL', 'YUM', 'ZBH', 'ZION', 'ZTS']"
   ]
  },
  {
   "cell_type": "code",
   "execution_count": 9,
   "metadata": {},
   "outputs": [
    {
     "data": {
      "text/plain": [
       "['GGP',\n",
       " 'TPR',\n",
       " 'MDLZ',\n",
       " 'FE',\n",
       " 'XYL',\n",
       " 'URI',\n",
       " 'LYB',\n",
       " 'AMD',\n",
       " 'HPQ',\n",
       " 'AMGN',\n",
       " 'ECL',\n",
       " 'KORS',\n",
       " 'CMS',\n",
       " 'UDR',\n",
       " 'ALLE',\n",
       " 'UPS',\n",
       " 'HSY',\n",
       " 'MKC',\n",
       " 'LNT',\n",
       " 'INTU',\n",
       " 'ANSS',\n",
       " 'PRU',\n",
       " 'COL',\n",
       " 'CLX',\n",
       " 'PLD',\n",
       " 'IP',\n",
       " 'AYI',\n",
       " 'UTX',\n",
       " 'IFF',\n",
       " 'PNW',\n",
       " 'NWSA',\n",
       " 'LEG',\n",
       " 'STX',\n",
       " 'MET',\n",
       " 'LOW',\n",
       " 'NWS',\n",
       " 'ZTS',\n",
       " 'SPGI',\n",
       " 'GILD',\n",
       " 'PBCT',\n",
       " 'LUV',\n",
       " 'EL',\n",
       " 'NTAP',\n",
       " 'TMO',\n",
       " 'NOV',\n",
       " 'RCL',\n",
       " 'TWX',\n",
       " 'LLY',\n",
       " 'UNP',\n",
       " 'DWDP',\n",
       " 'MTD',\n",
       " 'ADI',\n",
       " 'BMY',\n",
       " 'AAP',\n",
       " 'FIS',\n",
       " 'PRGO',\n",
       " 'MMC',\n",
       " 'CNC',\n",
       " 'CHRW',\n",
       " 'NRG',\n",
       " 'ABC',\n",
       " 'ORLY',\n",
       " 'UA',\n",
       " 'AXP',\n",
       " 'IDXX',\n",
       " 'DLR',\n",
       " 'APTV',\n",
       " 'TAP',\n",
       " 'KR',\n",
       " 'DISCK',\n",
       " 'HBAN',\n",
       " 'CI',\n",
       " 'CCL',\n",
       " 'AGN',\n",
       " 'GE',\n",
       " 'GIS',\n",
       " 'ILMN',\n",
       " 'HRS',\n",
       " 'BBT',\n",
       " 'DUK',\n",
       " 'NVDA',\n",
       " 'FMC',\n",
       " 'NTRS',\n",
       " 'COF',\n",
       " 'SNI',\n",
       " 'JNPR',\n",
       " 'PCLN',\n",
       " 'XRX',\n",
       " 'MPC',\n",
       " 'AJG',\n",
       " 'VFC',\n",
       " 'LMT',\n",
       " 'CME',\n",
       " 'FTI',\n",
       " 'AMP',\n",
       " 'WYNN',\n",
       " 'CSCO',\n",
       " 'UAL',\n",
       " 'SRCL',\n",
       " 'TIF']"
      ]
     },
     "execution_count": 9,
     "metadata": {},
     "output_type": "execute_result"
    }
   ],
   "source": [
    "tickers = random.sample(index,k=100)\n",
    "tickers"
   ]
  },
  {
   "cell_type": "code",
   "execution_count": 10,
   "metadata": {},
   "outputs": [],
   "source": [
    "data_df = pd.DataFrame()"
   ]
  },
  {
   "cell_type": "code",
   "execution_count": 11,
   "metadata": {},
   "outputs": [],
   "source": [
    "index = ['DXC', 'BBY', 'AMG', 'CNP', 'WMT', 'MRK', 'NEM', 'VFC', 'MDT', 'HST', 'MTD', 'CCI', 'KMI',\n",
    " 'RMD', 'LUV', 'NWS', 'AMGN', 'APD', 'TGT', 'MYL', 'GPC', 'FCX', 'UA', 'DISCK', 'FISV', 'ACN',\n",
    " 'SRCL', 'IT', 'PHM', 'ALB', 'AAPL', 'EFX', 'FE', 'COST', 'GWW', 'M', 'CRM', 'LKQ', 'AON',\n",
    " 'PEP', 'RJF', 'ORCL', 'MHK', 'PPL', 'FMC', 'OKE', 'EQR', 'RCL', 'IRM', 'BA', 'ABC', 'GIS',\n",
    " 'SYF', 'BMY', 'ADBE', 'SNPS', 'BWA', 'MSI', 'COF', 'LYB', 'RTN', 'FFIV', 'HLT', 'CVS', 'NEE',\n",
    " 'KMX', 'INCY', 'MGM', 'AES', 'GM', 'FDX', 'ADP', 'HOLX', 'NRG', 'NBL', 'MSFT', 'COG', 'OXY',\n",
    " 'GOOGL', 'CSRA', 'HRB', 'AJG', 'CINF', 'TXN', 'ETN', 'EXPE', 'TMO', 'BSX', 'CTAS', 'WBA', 'UNH',\n",
    " 'HSY', 'FB', 'EIX', 'SBUX', 'MCO', 'HII', 'RL', 'LNT', 'AXP']"
   ]
  },
  {
   "cell_type": "code",
   "execution_count": 12,
   "metadata": {},
   "outputs": [],
   "source": [
    "tickers1 = ['DXC', 'BBY', 'AMG', 'CNP', 'WMT', 'MRK', 'NEM', 'VFC', 'MDT', 'HST', 'MTD', 'CCI', 'KMI']\n",
    "start_date = pd.to_datetime('2015-1-1')\n",
    "end_date = pd.to_datetime('2020-1-10')\n",
    "stocks_df1 = pd.DataFrame()\n",
    "\n",
    "for t in tickers1:\n",
    "    stocks_df1[t]=wb.DataReader(t, data_source = 'yahoo', start = start_date, end = end_date) ['Adj Close']"
   ]
  },
  {
   "cell_type": "code",
   "execution_count": 13,
   "metadata": {},
   "outputs": [],
   "source": [
    "tickers3 = ['RMD', 'LUV', 'NWS', 'AMGN', 'APD', 'TGT', 'MYL', 'GPC', 'FCX', 'KO', 'DISCK', 'FISV', 'ACN']\n",
    "start_date = pd.to_datetime('2015-1-1')\n",
    "end_date = pd.to_datetime('2020-1-10')\n",
    "stocks_df3 = pd.DataFrame()\n",
    "\n",
    "for t in tickers3:\n",
    "    stocks_df3[t]=wb.DataReader(t, data_source = 'yahoo', start = start_date, end = end_date) ['Adj Close']"
   ]
  },
  {
   "cell_type": "code",
   "execution_count": 14,
   "metadata": {},
   "outputs": [],
   "source": [
    "tickers4 = ['SRCL', 'IT', 'PHM', 'ALB', 'AAPL', 'EFX', 'FE', 'COST', 'GWW', 'M', 'CRM', 'LKQ', 'AON']\n",
    "start_date = pd.to_datetime('2015-1-1')\n",
    "end_date = pd.to_datetime('2020-1-10')\n",
    "stocks_df4 = pd.DataFrame()\n",
    "\n",
    "for t in tickers4:\n",
    "    stocks_df4[t]=wb.DataReader(t, data_source = 'yahoo', start = start_date, end = end_date) ['Adj Close']"
   ]
  },
  {
   "cell_type": "code",
   "execution_count": 15,
   "metadata": {},
   "outputs": [],
   "source": [
    "tickers5 = ['PEP', 'RJF', 'ORCL', 'MHK', 'PPL', 'FMC', 'OKE', 'EQR', 'RCL', 'IRM', 'BA', 'ABC', 'GIS']\n",
    "start_date = pd.to_datetime('2015-1-1')\n",
    "end_date = pd.to_datetime('2020-1-10')\n",
    "stocks_df5 = pd.DataFrame()\n",
    "\n",
    "for t in tickers5:\n",
    "    stocks_df5[t]=wb.DataReader(t, data_source = 'yahoo', start = start_date, end = end_date) ['Adj Close']"
   ]
  },
  {
   "cell_type": "code",
   "execution_count": null,
   "metadata": {},
   "outputs": [],
   "source": [
    "tickers6 = ['SYF', 'BMY', 'ADBE', 'SNPS', 'BWA', 'MSI', 'COF', 'LYB', 'RTN', 'FFIV', 'HLT', 'CVS', 'NEE']\n",
    "start_date = pd.to_datetime('2015-1-1')\n",
    "end_date = pd.to_datetime('2020-1-10')\n",
    "stocks_df6 = pd.DataFrame()\n",
    "\n",
    "for t in tickers6:\n",
    "    stocks_df6[t]=wb.DataReader(t, data_source = 'yahoo', start = start_date, end = end_date) ['Adj Close']"
   ]
  },
  {
   "cell_type": "code",
   "execution_count": null,
   "metadata": {},
   "outputs": [],
   "source": [
    "tickers7 = ['KMX', 'INCY', 'MGM', 'AES', 'GM', 'FDX', 'ADP', 'HOLX', 'NRG', 'NBL', 'MSFT', 'COG', 'OXY']\n",
    "start_date = pd.to_datetime('2015-1-1')\n",
    "end_date = pd.to_datetime('2020-1-10')\n",
    "stocks_df7 = pd.DataFrame()\n",
    "\n",
    "for t in tickers7:\n",
    "    stocks_df7[t]=wb.DataReader(t, data_source = 'yahoo', start = start_date, end = end_date) ['Adj Close']"
   ]
  },
  {
   "cell_type": "code",
   "execution_count": null,
   "metadata": {},
   "outputs": [],
   "source": [
    "tickers8 = ['GOOGL','GS', 'HRB', 'AJG', 'CINF', 'TXN', 'ETN', 'EXPE', 'TMO', 'BSX', 'CTAS', 'WBA', 'UNH']\n",
    "start_date = pd.to_datetime('2015-1-1')\n",
    "end_date = pd.to_datetime('2020-1-10')\n",
    "stocks_df8 = pd.DataFrame()\n",
    "\n",
    "for t in tickers8:\n",
    "    stocks_df8[t]=wb.DataReader(t, data_source = 'yahoo', start = start_date, end = end_date) ['Adj Close']"
   ]
  },
  {
   "cell_type": "code",
   "execution_count": null,
   "metadata": {},
   "outputs": [],
   "source": [
    "tickers9 = [ 'HSY', 'FB', 'EIX', 'SBUX', 'MCO', 'HII', 'RL', 'LNT', 'AXP']\n",
    "start_date = pd.to_datetime('2015-1-1')\n",
    "end_date = pd.to_datetime('2020-1-10')\n",
    "stocks_df9 = pd.DataFrame()\n",
    "\n",
    "for t in tickers9:\n",
    "    stocks_df9[t]=wb.DataReader(t, data_source = 'yahoo', start = start_date, end = end_date) ['Adj Close']"
   ]
  },
  {
   "cell_type": "code",
   "execution_count": null,
   "metadata": {},
   "outputs": [],
   "source": [
    "combined_df_1 = pd.concat([stocks_df1,stocks_df3,stocks_df4,stocks_df5,stocks_df6,stocks_df7,stocks_df8,stocks_df9], axis = 'columns', join='inner')\n",
    "#combined_df_1.reset_index(inplace = True)\n",
    "combined_df_1"
   ]
  },
  {
   "cell_type": "code",
   "execution_count": 27,
   "metadata": {},
   "outputs": [],
   "source": [
    "combined_monthly = combined_df_1.asfreq('M').ffill()"
   ]
  },
  {
   "cell_type": "code",
   "execution_count": 2,
   "metadata": {},
   "outputs": [
    {
     "ename": "NameError",
     "evalue": "name 'combined_monthly' is not defined",
     "output_type": "error",
     "traceback": [
      "\u001b[0;31m---------------------------------------------------------------------------\u001b[0m",
      "\u001b[0;31mNameError\u001b[0m                                 Traceback (most recent call last)",
      "\u001b[0;32m<ipython-input-2-05da0d445a5d>\u001b[0m in \u001b[0;36m<module>\u001b[0;34m\u001b[0m\n\u001b[0;32m----> 1\u001b[0;31m \u001b[0mdaily_returns\u001b[0m \u001b[0;34m=\u001b[0m \u001b[0mcombined_monthly\u001b[0m\u001b[0;34m.\u001b[0m\u001b[0mpct_change\u001b[0m\u001b[0;34m(\u001b[0m\u001b[0;34m)\u001b[0m\u001b[0;34m\u001b[0m\u001b[0;34m\u001b[0m\u001b[0m\n\u001b[0m",
      "\u001b[0;31mNameError\u001b[0m: name 'combined_monthly' is not defined"
     ]
    }
   ],
   "source": [
    "daily_returns = combined_monthly.pct_change()"
   ]
  },
  {
   "cell_type": "code",
   "execution_count": null,
   "metadata": {},
   "outputs": [],
   "source": []
  },
  {
   "cell_type": "code",
   "execution_count": 29,
   "metadata": {},
   "outputs": [],
   "source": [
    "combined_monthly.to_clipboard()"
   ]
  },
  {
   "cell_type": "code",
   "execution_count": 30,
   "metadata": {},
   "outputs": [
    {
     "data": {
      "text/plain": [
       "DXC    0.001581\n",
       "BBY    0.001581\n",
       "AMG    0.001581\n",
       "CNP    0.001581\n",
       "WMT    0.001581\n",
       "         ...   \n",
       "MCO    0.001581\n",
       "HII    0.001581\n",
       "RL     0.001581\n",
       "LNT    0.001581\n",
       "AXP    0.001581\n",
       "Length: 100, dtype: float64"
      ]
     },
     "execution_count": 30,
     "metadata": {},
     "output_type": "execute_result"
    }
   ],
   "source": [
    "combined_monthly.isnull().sum()/len(combined_df_1)"
   ]
  },
  {
   "cell_type": "code",
   "execution_count": 32,
   "metadata": {},
   "outputs": [],
   "source": [
    "combined_monthly.dropna(inplace = True)"
   ]
  }
 ],
 "metadata": {
  "kernelspec": {
   "display_name": "Python 3",
   "language": "python",
   "name": "python3"
  },
  "language_info": {
   "codemirror_mode": {
    "name": "ipython",
    "version": 3
   },
   "file_extension": ".py",
   "mimetype": "text/x-python",
   "name": "python",
   "nbconvert_exporter": "python",
   "pygments_lexer": "ipython3",
   "version": "3.7.3"
  }
 },
 "nbformat": 4,
 "nbformat_minor": 4
}
