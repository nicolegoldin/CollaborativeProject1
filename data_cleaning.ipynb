{
 "cells": [
  {
   "cell_type": "code",
   "execution_count": null,
   "metadata": {},
   "outputs": [],
   "source": [
    "import pandas as pd\n",
    "from pathlib import Path\n",
    "import numpy as np\n",
    "import seaborn as sns\n",
    "from pandas_datareader import data as wb\n",
    "from datetime import datetime, timedelta\n",
    "import json\n",
    "import requests\n",
    "import random\n",
    "import os"
   ]
  },
  {
   "cell_type": "code",
   "execution_count": null,
   "metadata": {},
   "outputs": [],
   "source": [
    "csv_path = Path('S&P500.csv')\n",
    "sp500 = pd.read_csv(csv_path)\n",
    "sp500"
   ]
  },
  {
   "cell_type": "code",
   "execution_count": null,
   "metadata": {},
   "outputs": [],
   "source": [
    "grouped_sectors = sp500.groupby(['Sector']).count()\n",
    "grouped_sectors"
   ]
  },
  {
   "cell_type": "code",
   "execution_count": null,
   "metadata": {},
   "outputs": [],
   "source": [
    "index = sp500.index.values.tolist()"
   ]
  },
  {
   "cell_type": "code",
   "execution_count": null,
   "metadata": {},
   "outputs": [],
   "source": [
    "index.sort()"
   ]
  },
  {
   "cell_type": "code",
   "execution_count": null,
   "metadata": {},
   "outputs": [],
   "source": [
    "index = ['A', 'AAL', 'AAP', 'AAPL', 'ABBV', 'ABC', 'ABT', 'ACN', 'ADBE', 'ADI', 'ADM', 'ADP', 'ADS', 'ADSK', 'AEE', 'AEP', 'AES', 'AET', \n",
    "         'AFL', 'AGN', 'AIG', 'AIV', 'AIZ', 'AJG', 'AKAM', 'ALB', 'ALGN', 'ALK', 'ALL', 'ALLE', 'ALXN', 'AMAT', 'AMD', 'AME', 'AMG', \n",
    "         'AMGN', 'AMP', 'AMT', 'AMZN', 'ANDV', 'ANSS', 'ANTM', 'AON', 'AOS', 'APA', 'APD', 'APH', 'APTV', 'ARE', 'ARNC', 'ATVI',\n",
    "         'AVB', 'AVGO', 'AVY', 'AWK', 'AXP', 'AYI', 'AZO', 'BA', 'BAC', 'BAX', 'BBT', 'BBY', 'BDX', 'BEN', 'BF.B', 'BHF', \n",
    "         'BHGE', 'BIIB', 'BK', 'BLK', 'BLL', 'BMY','BRK.B', 'BSX', 'BWA', 'BXP', 'C', 'CA', 'CAG', 'CAH', 'CAT', 'CB', 'CBG', 'CBOE', \n",
    "         'CBS', 'CCI', 'CCL', 'CDNS', 'CELG', 'CERN', 'CF', 'CFG', 'CHD', 'CHK', 'CHRW', 'CHTR', 'CI', 'CINF', 'CL', 'CLX', 'CMA',\n",
    "         'CMCSA', 'CME', 'CMG', 'CMI', 'CMS', 'CNC', 'CNP', 'COF', 'COG', 'COL', 'COO', 'COP', 'COST', 'COTY', 'CPB', 'CRM', 'CSCO',\n",
    "         'CSRA', 'CSX', 'CTAS', 'CTL', 'CTSH', 'CTXS', 'CVS', 'CVX', 'CXO', 'D', 'DAL', 'DE', 'DFS', 'DG', 'DGX', 'DHI', 'DHR',\n",
    "         'DIS', 'DISCA', 'DISCK', 'DISH', 'DLR', 'DLTR', 'DOV', 'DPS', 'DRE', 'DRI', 'DTE', 'DUK', 'DVA', 'DVN', 'DWDP', 'DXC',\n",
    "         'EA', 'EBAY', 'ECL', 'ED', 'EFX', 'EIX', 'EL', 'EMN', 'EMR', 'EOG', 'EQIX', 'EQR', 'EQT', 'ES', 'ESRX', 'ESS',  'ETFC', \n",
    "         'ETN', 'ETR', 'EVHC', 'EW', 'EXC', 'EXPD', 'EXPE', 'EXR', 'F', 'FAST', 'FB', 'FBHS', 'FCX', 'FDX', 'FE', 'FFIV',\n",
    "         'FIS', 'FISV', 'FITB','FL', 'FLIR', 'FLR', 'FLS', 'FMC', 'FOX', 'FOXA', 'FRT', 'FTI', 'FTV', 'GD', 'GE', 'GGP', 'GILD',\n",
    "         'GIS', 'GLW', 'GM', 'GOOG', 'GOOGL', 'GPC', 'GPN', 'GPS', 'GRMN', 'GS', 'GT', 'GWW', 'HAL', 'HAS', 'HBAN', 'HBI', 'HCA',\n",
    "         'HCN', 'HD', 'HES', 'HIG', 'HII', 'HLT', 'HOG', 'HOLX', 'HON', 'HP', 'HPE', 'HPQ', 'HRB', 'HRL', 'HRS', 'HSIC',\n",
    "         'HST', 'HSY', 'HUM', 'IBM', 'ICE', 'IDXX', 'IFF', 'ILMN', 'INCY', 'INFO', 'INTC', 'INTU', 'IP', 'IPG', 'IQV', 'IR',\n",
    "         'IRM', 'ISRG', 'IT', 'ITW', 'IVZ', 'JBHT', 'JCI', 'JEC', 'JNJ', 'JNPR', 'JPM', 'JWN', 'K', 'KEY', 'KHC', 'KIM', 'KLAC',\n",
    "         'KMB', 'KMI', 'KMX', 'KO', 'KORS', 'KR', 'KSS', 'KSU', 'L', 'LB', 'LEG', 'LEN', 'LH', 'LKQ', 'LLL', 'LLY', 'LMT', 'LNC',\n",
    "         'LNT', 'LOW', 'LRCX', 'LUK', 'LUV', 'LYB', 'M', 'MA', 'MAA', 'MAC', 'MAR', 'MAS', 'MAT', 'MCD', 'MCHP', 'MCK', 'MCO', 'MDLZ',\n",
    "         'MDT', 'MET', 'MGM', 'MHK', 'MKC', 'MLM', 'MMC', 'MMM', 'MNST', 'MO', 'MON', 'MOS', 'MPC', 'MRK', 'MRO', 'MS', 'MSFT',\n",
    "         'MSI', 'MTB', 'MTD', 'MU', 'MYL', 'NAVI', 'NBL', 'NCLH', 'NDAQ', 'NEE', 'NEM', 'NFLX', 'NFX', 'NI', 'NKE', 'NLSN', 'NOC',\n",
    "         'NOV', 'NRG', 'NSC', 'NTAP', 'NTRS', 'NUE', 'NVDA', 'NWL', 'NWS', 'NWSA', 'O', 'OKE', 'OMC', 'ORCL', 'ORLY', 'OXY',\n",
    "         'PAYX', 'PBCT', 'PCAR', 'PCG', 'PCLN', 'PDCO', 'PEG', 'PEP', 'PFE', 'PFG', 'PG', 'PGR', 'PH', 'PHM', 'PKG', 'PKI', 'PLD', \n",
    "         'PM', 'PNC', 'PNR', 'PNW', 'PPG', 'PPL', 'PRGO', 'PRU', 'PSA', 'PSX', 'PVH', 'PWR', 'PX', 'PXD', 'PYPL', 'QCOM', \n",
    "         'QRVO', 'RCL', 'RE', 'REG', 'REGN', 'RF', 'RHI', 'RHT', 'RJF', 'RL', 'RMD', 'ROK', 'ROP', 'ROST', 'RRC', 'RSG', 'RTN', 'SBAC', \n",
    "         'SBUX', 'SCG', 'SCHW', 'SEE', 'SHW', 'SIG', 'SJM', 'SLB', 'SLG', 'SNA', 'SNI', 'SNPS', 'SO', 'SPG', 'SPGI', 'SRCL', 'SRE', \n",
    "         'STI', 'STT', 'STX', 'STZ', 'SWK', 'SWKS', 'SYF', 'SYK', 'SYMC', 'SYY', 'T', 'TAP', 'TDG', 'TEL', 'TGT', 'TIF', 'TJX',\n",
    "         'TMK', 'TMO', 'TPR', 'TRIP', 'TROW', 'TRV', 'TSCO', 'TSN', 'TSS', 'TWX', 'TXN', 'TXT', 'UA', 'UAA', 'UAL', 'UDR', 'UHS',\n",
    "         'ULTA', 'UNH', 'UNM', 'UNP', 'UPS', 'URI', 'USB', 'UTX', 'V','VAR', 'VFC', 'VIAB', 'VLO', 'VMC', 'VNO', 'VRSK', \n",
    "         'VRSN', 'VRTX','VTR','VZ','WAT', 'WBA','WDC','WEC', 'WFC', 'WHR', 'WLTW', 'WM', 'WMB','WMT', 'WRK', 'WU', 'WY', 'WYN', \n",
    "         'WYNN', 'XEC', 'XEL', 'XL', 'XLNX', 'XOM', 'XRAY', 'XRX', 'XYL', 'YUM', 'ZBH', 'ZION', 'ZTS']"
   ]
  },
  {
   "cell_type": "code",
   "execution_count": null,
   "metadata": {},
   "outputs": [],
   "source": [
    "tickers = random.sample(index,k=100)\n",
    "tickers"
   ]
  },
  {
   "cell_type": "code",
   "execution_count": null,
   "metadata": {},
   "outputs": [],
   "source": [
    "data_df = pd.DataFrame()"
   ]
  },
  {
   "cell_type": "code",
   "execution_count": null,
   "metadata": {},
   "outputs": [],
   "source": [
    "index = ['DXC', 'BBY', 'AMG', 'CNP', 'WMT', 'MRK', 'NEM', 'VFC', 'MDT', 'HST', 'MTD', 'CCI', 'KMI',\n",
    " 'RMD', 'LUV', 'NWS', 'AMGN', 'APD', 'TGT', 'MYL', 'GPC', 'FCX', 'UA', 'DISCK', 'FISV', 'ACN',\n",
    " 'SRCL', 'IT', 'PHM', 'ALB', 'AAPL', 'EFX', 'FE', 'COST', 'GWW', 'M', 'CRM', 'LKQ', 'AON',\n",
    " 'PEP', 'RJF', 'ORCL', 'MHK', 'PPL', 'FMC', 'OKE', 'EQR', 'RCL', 'IRM', 'BA', 'ABC', 'GIS',\n",
    " 'SYF', 'BMY', 'ADBE', 'SNPS', 'BWA', 'MSI', 'COF', 'LYB', 'RTN', 'FFIV', 'HLT', 'CVS', 'NEE',\n",
    " 'KMX', 'INCY', 'MGM', 'AES', 'GM', 'FDX', 'ADP', 'HOLX', 'NRG', 'NBL', 'MSFT', 'COG', 'OXY',\n",
    " 'GOOGL', 'CSRA', 'HRB', 'AJG', 'CINF', 'TXN', 'ETN', 'EXPE', 'TMO', 'BSX', 'CTAS', 'WBA', 'UNH',\n",
    " 'HSY', 'FB', 'EIX', 'SBUX', 'MCO', 'HII', 'RL', 'LNT', 'AXP']"
   ]
  },
  {
   "cell_type": "code",
   "execution_count": null,
   "metadata": {},
   "outputs": [],
   "source": [
    "tickers1 = ['DXC', 'BBY', 'AMG', 'CNP', 'WMT', 'MRK', 'NEM', 'VFC', 'MDT', 'HST', 'MTD', 'CCI', 'KMI']\n",
    "start_date = pd.to_datetime('2015-1-1')\n",
    "end_date = pd.to_datetime('2020-1-10')\n",
    "stocks_df1 = pd.DataFrame()\n",
    "\n",
    "for t in tickers1:\n",
    "    stocks_df1[t]=wb.DataReader(t, data_source = 'yahoo', start = start_date, end = end_date) ['Adj Close']"
   ]
  },
  {
   "cell_type": "code",
   "execution_count": null,
   "metadata": {},
   "outputs": [],
   "source": [
    "tickers3 = ['RMD', 'LUV', 'NWS', 'AMGN', 'APD', 'TGT', 'MYL', 'GPC', 'FCX', 'KO', 'DISCK', 'FISV', 'ACN']\n",
    "start_date = pd.to_datetime('2015-1-1')\n",
    "end_date = pd.to_datetime('2020-1-10')\n",
    "stocks_df3 = pd.DataFrame()\n",
    "\n",
    "for t in tickers3:\n",
    "    stocks_df3[t]=wb.DataReader(t, data_source = 'yahoo', start = start_date, end = end_date) ['Adj Close']"
   ]
  },
  {
   "cell_type": "code",
   "execution_count": null,
   "metadata": {},
   "outputs": [],
   "source": [
    "tickers4 = ['SRCL', 'IT', 'PHM', 'ALB', 'AAPL', 'EFX', 'FE', 'COST', 'GWW', 'M', 'CRM', 'LKQ', 'AON']\n",
    "start_date = pd.to_datetime('2015-1-1')\n",
    "end_date = pd.to_datetime('2020-1-10')\n",
    "stocks_df4 = pd.DataFrame()\n",
    "\n",
    "for t in tickers4:\n",
    "    stocks_df4[t]=wb.DataReader(t, data_source = 'yahoo', start = start_date, end = end_date) ['Adj Close']"
   ]
  },
  {
   "cell_type": "code",
   "execution_count": null,
   "metadata": {},
   "outputs": [],
   "source": [
    "tickers5 = ['PEP', 'RJF', 'ORCL', 'MHK', 'PPL', 'FMC', 'OKE', 'EQR', 'RCL', 'IRM', 'BA', 'ABC', 'GIS']\n",
    "start_date = pd.to_datetime('2015-1-1')\n",
    "end_date = pd.to_datetime('2020-1-10')\n",
    "stocks_df5 = pd.DataFrame()\n",
    "\n",
    "for t in tickers5:\n",
    "    stocks_df5[t]=wb.DataReader(t, data_source = 'yahoo', start = start_date, end = end_date) ['Adj Close']"
   ]
  },
  {
   "cell_type": "code",
   "execution_count": null,
   "metadata": {},
   "outputs": [],
   "source": [
    "tickers6 = ['SYF', 'BMY', 'ADBE', 'SNPS', 'BWA', 'MSI', 'COF', 'LYB', 'RTN', 'FFIV', 'HLT', 'CVS', 'NEE']\n",
    "start_date = pd.to_datetime('2015-1-1')\n",
    "end_date = pd.to_datetime('2020-1-10')\n",
    "stocks_df6 = pd.DataFrame()\n",
    "\n",
    "for t in tickers6:\n",
    "    stocks_df6[t]=wb.DataReader(t, data_source = 'yahoo', start = start_date, end = end_date) ['Adj Close']"
   ]
  },
  {
   "cell_type": "code",
   "execution_count": null,
   "metadata": {},
   "outputs": [],
   "source": [
    "tickers7 = ['KMX', 'INCY', 'MGM', 'AES', 'GM', 'FDX', 'ADP', 'HOLX', 'NRG', 'NBL', 'MSFT', 'COG', 'OXY']\n",
    "start_date = pd.to_datetime('2015-1-1')\n",
    "end_date = pd.to_datetime('2020-1-10')\n",
    "stocks_df7 = pd.DataFrame()\n",
    "\n",
    "for t in tickers7:\n",
    "    stocks_df7[t]=wb.DataReader(t, data_source = 'yahoo', start = start_date, end = end_date) ['Adj Close']"
   ]
  },
  {
   "cell_type": "code",
   "execution_count": null,
   "metadata": {},
   "outputs": [],
   "source": [
    "tickers8 = ['GOOGL','GS', 'HRB', 'AJG', 'CINF', 'TXN', 'ETN', 'EXPE', 'TMO', 'BSX', 'CTAS', 'WBA', 'UNH']\n",
    "start_date = pd.to_datetime('2015-1-1')\n",
    "end_date = pd.to_datetime('2020-1-10')\n",
    "stocks_df8 = pd.DataFrame()\n",
    "\n",
    "for t in tickers8:\n",
    "    stocks_df8[t]=wb.DataReader(t, data_source = 'yahoo', start = start_date, end = end_date) ['Adj Close']"
   ]
  },
  {
   "cell_type": "code",
   "execution_count": null,
   "metadata": {},
   "outputs": [],
   "source": [
    "tickers9 = [ 'HSY', 'FB', 'EIX', 'SBUX', 'MCO', 'HII', 'RL', 'LNT', 'AXP']\n",
    "start_date = pd.to_datetime('2015-1-1')\n",
    "end_date = pd.to_datetime('2020-1-10')\n",
    "stocks_df9 = pd.DataFrame()\n",
    "\n",
    "for t in tickers9:\n",
    "    stocks_df9[t]=wb.DataReader(t, data_source = 'yahoo', start = start_date, end = end_date) ['Adj Close']"
   ]
  },
  {
   "cell_type": "code",
   "execution_count": 2,
   "metadata": {},
   "outputs": [
    {
     "ename": "NameError",
     "evalue": "name 'stocks_df1' is not defined",
     "output_type": "error",
     "traceback": [
      "\u001b[1;31m---------------------------------------------------------------------------\u001b[0m",
      "\u001b[1;31mNameError\u001b[0m                                 Traceback (most recent call last)",
      "\u001b[1;32m<ipython-input-2-271c66debcc7>\u001b[0m in \u001b[0;36m<module>\u001b[1;34m\u001b[0m\n\u001b[1;32m----> 1\u001b[1;33m \u001b[0mcombined_df_1\u001b[0m \u001b[1;33m=\u001b[0m \u001b[0mpd\u001b[0m\u001b[1;33m.\u001b[0m\u001b[0mconcat\u001b[0m\u001b[1;33m(\u001b[0m\u001b[1;33m[\u001b[0m\u001b[0mstocks_df1\u001b[0m\u001b[1;33m,\u001b[0m\u001b[0mstocks_df3\u001b[0m\u001b[1;33m,\u001b[0m\u001b[0mstocks_df4\u001b[0m\u001b[1;33m,\u001b[0m\u001b[0mstocks_df5\u001b[0m\u001b[1;33m,\u001b[0m\u001b[0mstocks_df6\u001b[0m\u001b[1;33m,\u001b[0m\u001b[0mstocks_df7\u001b[0m\u001b[1;33m,\u001b[0m\u001b[0mstocks_df8\u001b[0m\u001b[1;33m,\u001b[0m\u001b[0mstocks_df9\u001b[0m\u001b[1;33m]\u001b[0m\u001b[1;33m,\u001b[0m \u001b[0maxis\u001b[0m \u001b[1;33m=\u001b[0m \u001b[1;34m'columns'\u001b[0m\u001b[1;33m,\u001b[0m \u001b[0mjoin\u001b[0m\u001b[1;33m=\u001b[0m\u001b[1;34m'inner'\u001b[0m\u001b[1;33m)\u001b[0m\u001b[1;33m\u001b[0m\u001b[1;33m\u001b[0m\u001b[0m\n\u001b[0m\u001b[0;32m      2\u001b[0m \u001b[1;31m#combined_df_1.reset_index(inplace = True)\u001b[0m\u001b[1;33m\u001b[0m\u001b[1;33m\u001b[0m\u001b[1;33m\u001b[0m\u001b[0m\n\u001b[0;32m      3\u001b[0m \u001b[0mcombined_df_1\u001b[0m\u001b[1;33m\u001b[0m\u001b[1;33m\u001b[0m\u001b[0m\n",
      "\u001b[1;31mNameError\u001b[0m: name 'stocks_df1' is not defined"
     ]
    }
   ],
   "source": [
    "combined_df_1 = pd.concat([stocks_df1,stocks_df3,stocks_df4,stocks_df5,stocks_df6,stocks_df7,stocks_df8,stocks_df9], axis = 'columns', join='inner')\n",
    "#combined_df_1.reset_index(inplace = True)\n",
    "combined_df_1"
   ]
  },
  {
   "cell_type": "code",
   "execution_count": 3,
   "metadata": {},
   "outputs": [
    {
     "ename": "NameError",
     "evalue": "name 'combined_df_1' is not defined",
     "output_type": "error",
     "traceback": [
      "\u001b[1;31m---------------------------------------------------------------------------\u001b[0m",
      "\u001b[1;31mNameError\u001b[0m                                 Traceback (most recent call last)",
      "\u001b[1;32m<ipython-input-3-82458f699920>\u001b[0m in \u001b[0;36m<module>\u001b[1;34m\u001b[0m\n\u001b[1;32m----> 1\u001b[1;33m \u001b[0mcombined_monthly\u001b[0m \u001b[1;33m=\u001b[0m \u001b[0mcombined_df_1\u001b[0m\u001b[1;33m.\u001b[0m\u001b[0masfreq\u001b[0m\u001b[1;33m(\u001b[0m\u001b[1;34m'M'\u001b[0m\u001b[1;33m)\u001b[0m\u001b[1;33m.\u001b[0m\u001b[0mffill\u001b[0m\u001b[1;33m(\u001b[0m\u001b[1;33m)\u001b[0m\u001b[1;33m\u001b[0m\u001b[1;33m\u001b[0m\u001b[0m\n\u001b[0m",
      "\u001b[1;31mNameError\u001b[0m: name 'combined_df_1' is not defined"
     ]
    }
   ],
   "source": [
    "combined_monthly = combined_df_1.asfreq('M').ffill()"
   ]
  },
  {
   "cell_type": "code",
   "execution_count": 4,
   "metadata": {},
   "outputs": [
    {
     "ename": "NameError",
     "evalue": "name 'combined_monthly' is not defined",
     "output_type": "error",
     "traceback": [
      "\u001b[1;31m---------------------------------------------------------------------------\u001b[0m",
      "\u001b[1;31mNameError\u001b[0m                                 Traceback (most recent call last)",
      "\u001b[1;32m<ipython-input-4-05da0d445a5d>\u001b[0m in \u001b[0;36m<module>\u001b[1;34m\u001b[0m\n\u001b[1;32m----> 1\u001b[1;33m \u001b[0mdaily_returns\u001b[0m \u001b[1;33m=\u001b[0m \u001b[0mcombined_monthly\u001b[0m\u001b[1;33m.\u001b[0m\u001b[0mpct_change\u001b[0m\u001b[1;33m(\u001b[0m\u001b[1;33m)\u001b[0m\u001b[1;33m\u001b[0m\u001b[1;33m\u001b[0m\u001b[0m\n\u001b[0m",
      "\u001b[1;31mNameError\u001b[0m: name 'combined_monthly' is not defined"
     ]
    }
   ],
   "source": [
    "daily_returns = combined_monthly.pct_change()"
   ]
  },
  {
   "cell_type": "code",
   "execution_count": null,
   "metadata": {},
   "outputs": [],
   "source": []
  },
  {
   "cell_type": "code",
   "execution_count": 29,
   "metadata": {},
   "outputs": [],
   "source": [
    "combined_monthly.to_clipboard()"
   ]
  },
  {
   "cell_type": "code",
   "execution_count": 30,
   "metadata": {},
   "outputs": [
    {
     "data": {
      "text/plain": [
       "DXC    0.001581\n",
       "BBY    0.001581\n",
       "AMG    0.001581\n",
       "CNP    0.001581\n",
       "WMT    0.001581\n",
       "         ...   \n",
       "MCO    0.001581\n",
       "HII    0.001581\n",
       "RL     0.001581\n",
       "LNT    0.001581\n",
       "AXP    0.001581\n",
       "Length: 100, dtype: float64"
      ]
     },
     "execution_count": 30,
     "metadata": {},
     "output_type": "execute_result"
    }
   ],
   "source": [
    "combined_monthly.isnull().sum()/len(combined_df_1)"
   ]
  },
  {
   "cell_type": "code",
   "execution_count": 32,
   "metadata": {},
   "outputs": [],
   "source": [
    "combined_monthly.dropna(inplace = True)"
   ]
  }
 ],
 "metadata": {
  "kernelspec": {
   "display_name": "Python 3",
   "language": "python",
   "name": "python3"
  },
  "language_info": {
   "codemirror_mode": {
    "name": "ipython",
    "version": 3
   },
   "file_extension": ".py",
   "mimetype": "text/x-python",
   "name": "python",
   "nbconvert_exporter": "python",
   "pygments_lexer": "ipython3",
   "version": "3.7.4"
  }
 },
 "nbformat": 4,
 "nbformat_minor": 4
}
