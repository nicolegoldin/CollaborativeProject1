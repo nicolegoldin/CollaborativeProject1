{
 "cells": [
  {
   "cell_type": "code",
   "execution_count": 119,
   "metadata": {},
   "outputs": [],
   "source": [
    "import pandas as pd\n",
    "import numpy as np\n",
    "from sklearn import linear_model\n",
    "from pathlib import Path\n"
   ]
  },
  {
   "cell_type": "code",
   "execution_count": 23,
   "metadata": {},
   "outputs": [],
   "source": [
    "stock_csv_path = Path('monthly_data.csv')\n",
    "monthly_df = pd.read_csv(stock_csv_path, index_col = 'Date')\n",
    "monthly_df_daily_returns = monthly_df.pct_change()"
   ]
  },
  {
   "cell_type": "code",
   "execution_count": 135,
   "metadata": {},
   "outputs": [
    {
     "data": {
      "text/html": [
       "<div>\n",
       "<style scoped>\n",
       "    .dataframe tbody tr th:only-of-type {\n",
       "        vertical-align: middle;\n",
       "    }\n",
       "\n",
       "    .dataframe tbody tr th {\n",
       "        vertical-align: top;\n",
       "    }\n",
       "\n",
       "    .dataframe thead th {\n",
       "        text-align: right;\n",
       "    }\n",
       "</style>\n",
       "<table border=\"1\" class=\"dataframe\">\n",
       "  <thead>\n",
       "    <tr style=\"text-align: right;\">\n",
       "      <th></th>\n",
       "      <th>DXC</th>\n",
       "      <th>BBY</th>\n",
       "      <th>AMG</th>\n",
       "      <th>CNP</th>\n",
       "      <th>WMT</th>\n",
       "      <th>MRK</th>\n",
       "      <th>NEM</th>\n",
       "      <th>VFC</th>\n",
       "      <th>MDT</th>\n",
       "      <th>HST</th>\n",
       "      <th>...</th>\n",
       "      <th>UNH</th>\n",
       "      <th>HSY</th>\n",
       "      <th>FB</th>\n",
       "      <th>EIX</th>\n",
       "      <th>SBUX</th>\n",
       "      <th>MCO</th>\n",
       "      <th>HII</th>\n",
       "      <th>RL</th>\n",
       "      <th>LNT</th>\n",
       "      <th>AXP</th>\n",
       "    </tr>\n",
       "    <tr>\n",
       "      <th>Date</th>\n",
       "      <th></th>\n",
       "      <th></th>\n",
       "      <th></th>\n",
       "      <th></th>\n",
       "      <th></th>\n",
       "      <th></th>\n",
       "      <th></th>\n",
       "      <th></th>\n",
       "      <th></th>\n",
       "      <th></th>\n",
       "      <th></th>\n",
       "      <th></th>\n",
       "      <th></th>\n",
       "      <th></th>\n",
       "      <th></th>\n",
       "      <th></th>\n",
       "      <th></th>\n",
       "      <th></th>\n",
       "      <th></th>\n",
       "      <th></th>\n",
       "      <th></th>\n",
       "    </tr>\n",
       "  </thead>\n",
       "  <tbody>\n",
       "    <tr>\n",
       "      <th>3/31/2015</th>\n",
       "      <td>-0.072857</td>\n",
       "      <td>-0.002622</td>\n",
       "      <td>-0.007578</td>\n",
       "      <td>-0.018278</td>\n",
       "      <td>-0.014131</td>\n",
       "      <td>-0.010162</td>\n",
       "      <td>-0.174545</td>\n",
       "      <td>-0.013202</td>\n",
       "      <td>0.009122</td>\n",
       "      <td>-0.029476</td>\n",
       "      <td>...</td>\n",
       "      <td>0.044493</td>\n",
       "      <td>-0.027654</td>\n",
       "      <td>0.041155</td>\n",
       "      <td>-0.021137</td>\n",
       "      <td>0.012942</td>\n",
       "      <td>0.070765</td>\n",
       "      <td>-0.005552</td>\n",
       "      <td>-0.039418</td>\n",
       "      <td>-0.009434</td>\n",
       "      <td>-0.039329</td>\n",
       "    </tr>\n",
       "    <tr>\n",
       "      <th>4/30/2015</th>\n",
       "      <td>-0.012714</td>\n",
       "      <td>-0.083091</td>\n",
       "      <td>0.052845</td>\n",
       "      <td>0.027437</td>\n",
       "      <td>-0.051064</td>\n",
       "      <td>0.036186</td>\n",
       "      <td>0.220175</td>\n",
       "      <td>-0.038242</td>\n",
       "      <td>-0.045391</td>\n",
       "      <td>-0.001982</td>\n",
       "      <td>...</td>\n",
       "      <td>-0.058247</td>\n",
       "      <td>-0.089090</td>\n",
       "      <td>-0.041961</td>\n",
       "      <td>-0.024492</td>\n",
       "      <td>0.047096</td>\n",
       "      <td>0.035838</td>\n",
       "      <td>-0.061077</td>\n",
       "      <td>0.014524</td>\n",
       "      <td>-0.031611</td>\n",
       "      <td>-0.008577</td>\n",
       "    </tr>\n",
       "    <tr>\n",
       "      <th>5/31/2015</th>\n",
       "      <td>0.000000</td>\n",
       "      <td>0.000000</td>\n",
       "      <td>0.000000</td>\n",
       "      <td>0.000000</td>\n",
       "      <td>0.000000</td>\n",
       "      <td>0.000000</td>\n",
       "      <td>0.000000</td>\n",
       "      <td>0.000000</td>\n",
       "      <td>0.000000</td>\n",
       "      <td>0.000000</td>\n",
       "      <td>...</td>\n",
       "      <td>0.000000</td>\n",
       "      <td>0.000000</td>\n",
       "      <td>0.000000</td>\n",
       "      <td>0.000000</td>\n",
       "      <td>0.000000</td>\n",
       "      <td>0.000000</td>\n",
       "      <td>0.000000</td>\n",
       "      <td>0.000000</td>\n",
       "      <td>0.000000</td>\n",
       "      <td>0.000000</td>\n",
       "    </tr>\n",
       "    <tr>\n",
       "      <th>6/30/2015</th>\n",
       "      <td>0.025611</td>\n",
       "      <td>-0.052519</td>\n",
       "      <td>-0.033299</td>\n",
       "      <td>-0.081165</td>\n",
       "      <td>-0.085489</td>\n",
       "      <td>-0.036887</td>\n",
       "      <td>-0.117304</td>\n",
       "      <td>-0.032477</td>\n",
       "      <td>0.000349</td>\n",
       "      <td>-0.005595</td>\n",
       "      <td>...</td>\n",
       "      <td>0.099791</td>\n",
       "      <td>-0.028147</td>\n",
       "      <td>0.088866</td>\n",
       "      <td>-0.081105</td>\n",
       "      <td>0.084925</td>\n",
       "      <td>0.007206</td>\n",
       "      <td>-0.141581</td>\n",
       "      <td>-0.004303</td>\n",
       "      <td>-0.045477</td>\n",
       "      <td>0.007241</td>\n",
       "    </tr>\n",
       "    <tr>\n",
       "      <th>7/31/2015</th>\n",
       "      <td>-0.003199</td>\n",
       "      <td>-0.009813</td>\n",
       "      <td>-0.048948</td>\n",
       "      <td>0.016290</td>\n",
       "      <td>0.014804</td>\n",
       "      <td>0.035658</td>\n",
       "      <td>-0.264983</td>\n",
       "      <td>0.105392</td>\n",
       "      <td>0.057895</td>\n",
       "      <td>-0.022693</td>\n",
       "      <td>...</td>\n",
       "      <td>-0.004918</td>\n",
       "      <td>0.045705</td>\n",
       "      <td>0.096071</td>\n",
       "      <td>0.079705</td>\n",
       "      <td>0.080381</td>\n",
       "      <td>0.022879</td>\n",
       "      <td>0.042810</td>\n",
       "      <td>-0.048882</td>\n",
       "      <td>0.075432</td>\n",
       "      <td>-0.021358</td>\n",
       "    </tr>\n",
       "  </tbody>\n",
       "</table>\n",
       "<p>5 rows × 100 columns</p>\n",
       "</div>"
      ],
      "text/plain": [
       "                DXC       BBY       AMG       CNP       WMT       MRK  \\\n",
       "Date                                                                    \n",
       "3/31/2015 -0.072857 -0.002622 -0.007578 -0.018278 -0.014131 -0.010162   \n",
       "4/30/2015 -0.012714 -0.083091  0.052845  0.027437 -0.051064  0.036186   \n",
       "5/31/2015  0.000000  0.000000  0.000000  0.000000  0.000000  0.000000   \n",
       "6/30/2015  0.025611 -0.052519 -0.033299 -0.081165 -0.085489 -0.036887   \n",
       "7/31/2015 -0.003199 -0.009813 -0.048948  0.016290  0.014804  0.035658   \n",
       "\n",
       "                NEM       VFC       MDT       HST  ...       UNH       HSY  \\\n",
       "Date                                               ...                       \n",
       "3/31/2015 -0.174545 -0.013202  0.009122 -0.029476  ...  0.044493 -0.027654   \n",
       "4/30/2015  0.220175 -0.038242 -0.045391 -0.001982  ... -0.058247 -0.089090   \n",
       "5/31/2015  0.000000  0.000000  0.000000  0.000000  ...  0.000000  0.000000   \n",
       "6/30/2015 -0.117304 -0.032477  0.000349 -0.005595  ...  0.099791 -0.028147   \n",
       "7/31/2015 -0.264983  0.105392  0.057895 -0.022693  ... -0.004918  0.045705   \n",
       "\n",
       "                 FB       EIX      SBUX       MCO       HII        RL  \\\n",
       "Date                                                                    \n",
       "3/31/2015  0.041155 -0.021137  0.012942  0.070765 -0.005552 -0.039418   \n",
       "4/30/2015 -0.041961 -0.024492  0.047096  0.035838 -0.061077  0.014524   \n",
       "5/31/2015  0.000000  0.000000  0.000000  0.000000  0.000000  0.000000   \n",
       "6/30/2015  0.088866 -0.081105  0.084925  0.007206 -0.141581 -0.004303   \n",
       "7/31/2015  0.096071  0.079705  0.080381  0.022879  0.042810 -0.048882   \n",
       "\n",
       "                LNT       AXP  \n",
       "Date                           \n",
       "3/31/2015 -0.009434 -0.039329  \n",
       "4/30/2015 -0.031611 -0.008577  \n",
       "5/31/2015  0.000000  0.000000  \n",
       "6/30/2015 -0.045477  0.007241  \n",
       "7/31/2015  0.075432 -0.021358  \n",
       "\n",
       "[5 rows x 100 columns]"
      ]
     },
     "execution_count": 135,
     "metadata": {},
     "output_type": "execute_result"
    }
   ],
   "source": [
    "monthly_df_daily_returns.head()"
   ]
  },
  {
   "cell_type": "code",
   "execution_count": 25,
   "metadata": {},
   "outputs": [
    {
     "data": {
      "text/plain": [
       "(59, 100)"
      ]
     },
     "execution_count": 25,
     "metadata": {},
     "output_type": "execute_result"
    }
   ],
   "source": [
    "monthly_df_daily_returns.shape"
   ]
  },
  {
   "cell_type": "code",
   "execution_count": 26,
   "metadata": {},
   "outputs": [
    {
     "data": {
      "text/plain": [
       "(58, 100)"
      ]
     },
     "execution_count": 26,
     "metadata": {},
     "output_type": "execute_result"
    }
   ],
   "source": [
    "monthly_df_daily_returns.dropna(inplace = True)\n",
    "monthly_df_daily_returns.shape"
   ]
  },
  {
   "cell_type": "code",
   "execution_count": 136,
   "metadata": {},
   "outputs": [
    {
     "data": {
      "text/plain": [
       "(58, 4)"
      ]
     },
     "execution_count": 136,
     "metadata": {},
     "output_type": "execute_result"
    }
   ],
   "source": [
    "ffm_csv_path = Path('F-F_Research_Data_Factors.csv')\n",
    "ffm_data = pd.read_csv(ffm_csv_path, index_col='Date')\n",
    "ffm_data.shape"
   ]
  },
  {
   "cell_type": "code",
   "execution_count": 38,
   "metadata": {},
   "outputs": [],
   "source": [
    "reg = linear_model.LinearRegression()"
   ]
  },
  {
   "cell_type": "code",
   "execution_count": 121,
   "metadata": {},
   "outputs": [],
   "source": [
    "reg = linear_model.LinearRegression()\n",
    "fit = reg.fit(X=ffm_data[['SMB','HML','RF']],\n",
    "              y=monthly_df_daily_returns.AAPL)"
   ]
  },
  {
   "cell_type": "code",
   "execution_count": 107,
   "metadata": {},
   "outputs": [
    {
     "data": {
      "text/plain": [
       "array([ 0.00493159, -0.00134568,  0.15507276])"
      ]
     },
     "execution_count": 107,
     "metadata": {},
     "output_type": "execute_result"
    }
   ],
   "source": [
    "fit.coef_"
   ]
  },
  {
   "cell_type": "code",
   "execution_count": 150,
   "metadata": {},
   "outputs": [],
   "source": [
    "import statsmodels.api as sm\n",
    "from statsmodels.regression import linear_model as lm"
   ]
  },
  {
   "cell_type": "code",
   "execution_count": 168,
   "metadata": {},
   "outputs": [
    {
     "name": "stderr",
     "output_type": "stream",
     "text": [
      "C:\\Users\\nikki\\Anaconda3\\lib\\site-packages\\numpy\\core\\fromnumeric.py:2495: FutureWarning: Method .ptp is deprecated and will be removed in a future version. Use numpy.ptp instead.\n",
      "  return ptp(axis=axis, out=out, **kwargs)\n"
     ]
    }
   ],
   "source": [
    "results_dict = {}\n",
    "params = {}\n",
    "\n",
    "for ticker in monthly_df_daily_returns.columns:\n",
    "    results_dict[ticker] = lm.OLS(endog=monthly_df_daily_returns.loc[:,ticker],\n",
    "                  exog=sm.add_constant(ffm_data[['SMB','HML','RF']])).fit()\n",
    "    \n",
    "    params[ticker] = results_dict[ticker].params"
   ]
  },
  {
   "cell_type": "code",
   "execution_count": 163,
   "metadata": {},
   "outputs": [],
   "source": [
    "temp_var = results_dict['AAPL']"
   ]
  },
  {
   "cell_type": "code",
   "execution_count": 170,
   "metadata": {},
   "outputs": [],
   "source": [
    "# params"
   ]
  },
  {
   "cell_type": "code",
   "execution_count": 137,
   "metadata": {},
   "outputs": [],
   "source": [
    "ffm_data.index = pd.DatetimeIndex(ffm_data.index)"
   ]
  },
  {
   "cell_type": "code",
   "execution_count": 141,
   "metadata": {},
   "outputs": [],
   "source": [
    "monthly_df_daily_returns.index = pd.DatetimeIndex(monthly_df_daily_returns.index)"
   ]
  },
  {
   "cell_type": "code",
   "execution_count": 144,
   "metadata": {},
   "outputs": [
    {
     "data": {
      "text/plain": [
       "DatetimeIndex(['2015-03-31', '2015-04-30', '2015-05-31', '2015-06-30',\n",
       "               '2015-07-31', '2015-08-31', '2015-09-30', '2015-10-31',\n",
       "               '2015-11-30', '2015-12-31', '2016-01-31', '2016-02-29',\n",
       "               '2016-03-31', '2016-04-30', '2016-05-31', '2016-06-30',\n",
       "               '2016-07-31', '2016-08-31', '2016-09-30', '2016-10-31',\n",
       "               '2016-11-30', '2016-12-31', '2017-01-31', '2017-02-28',\n",
       "               '2017-03-31', '2017-04-30', '2017-05-31', '2017-06-30',\n",
       "               '2017-07-31', '2017-08-31', '2017-09-30', '2017-10-31',\n",
       "               '2017-11-30', '2017-12-31', '2018-01-31', '2018-02-28',\n",
       "               '2018-03-31', '2018-04-30', '2018-05-31', '2018-06-30',\n",
       "               '2018-07-31', '2018-08-31', '2018-09-30', '2018-10-31',\n",
       "               '2018-11-30', '2018-12-31', '2019-01-31', '2019-02-28',\n",
       "               '2019-03-31', '2019-04-30', '2019-05-31', '2019-06-30',\n",
       "               '2019-07-31', '2019-08-31', '2019-09-30', '2019-10-31',\n",
       "               '2019-11-30', '2019-12-31'],\n",
       "              dtype='datetime64[ns]', name='Date', freq=None)"
      ]
     },
     "execution_count": 144,
     "metadata": {},
     "output_type": "execute_result"
    }
   ],
   "source": [
    "monthly_df_daily_returns.index"
   ]
  },
  {
   "cell_type": "code",
   "execution_count": 145,
   "metadata": {},
   "outputs": [
    {
     "data": {
      "text/plain": [
       "DatetimeIndex(['2015-03-31', '2015-04-30', '2015-05-31', '2015-06-30',\n",
       "               '2015-07-31', '2015-08-31', '2015-09-30', '2015-10-31',\n",
       "               '2015-11-30', '2015-12-31', '2016-01-31', '2016-02-29',\n",
       "               '2016-03-31', '2016-04-30', '2016-05-31', '2016-06-30',\n",
       "               '2016-07-31', '2016-08-31', '2016-09-30', '2016-10-31',\n",
       "               '2016-11-30', '2016-12-31', '2017-01-31', '2017-02-28',\n",
       "               '2017-03-31', '2017-04-30', '2017-05-31', '2017-06-30',\n",
       "               '2017-07-31', '2017-08-31', '2017-09-30', '2017-10-31',\n",
       "               '2017-11-30', '2017-12-31', '2018-01-31', '2018-02-28',\n",
       "               '2018-03-31', '2018-04-30', '2018-05-31', '2018-06-30',\n",
       "               '2018-07-31', '2018-08-31', '2018-09-30', '2018-10-31',\n",
       "               '2018-11-30', '2018-12-31', '2019-01-31', '2019-02-28',\n",
       "               '2019-03-31', '2019-04-30', '2019-05-31', '2019-06-30',\n",
       "               '2019-07-31', '2019-08-31', '2019-09-30', '2019-10-31',\n",
       "               '2019-11-30', '2019-12-31'],\n",
       "              dtype='datetime64[ns]', name='Date', freq=None)"
      ]
     },
     "execution_count": 145,
     "metadata": {},
     "output_type": "execute_result"
    }
   ],
   "source": [
    "ffm_data.index"
   ]
  },
  {
   "cell_type": "code",
   "execution_count": null,
   "metadata": {},
   "outputs": [],
   "source": []
  }
 ],
 "metadata": {
  "kernelspec": {
   "display_name": "Python 3",
   "language": "python",
   "name": "python3"
  },
  "language_info": {
   "codemirror_mode": {
    "name": "ipython",
    "version": 3
   },
   "file_extension": ".py",
   "mimetype": "text/x-python",
   "name": "python",
   "nbconvert_exporter": "python",
   "pygments_lexer": "ipython3",
   "version": "3.7.4"
  }
 },
 "nbformat": 4,
 "nbformat_minor": 4
}
