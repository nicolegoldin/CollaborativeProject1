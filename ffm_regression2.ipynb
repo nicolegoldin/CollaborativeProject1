{
 "cells": [
  {
   "cell_type": "code",
   "execution_count": 1,
   "metadata": {},
   "outputs": [],
   "source": [
    "import pandas as pd\n",
    "import numpy as np\n",
    "from sklearn import linear_model\n",
    "from pathlib import Path\n"
   ]
  },
  {
   "cell_type": "code",
   "execution_count": 2,
   "metadata": {},
   "outputs": [],
   "source": [
    "stock_csv_path = Path('monthly_data.csv')\n",
    "monthly_df = pd.read_csv(stock_csv_path, index_col = 'Date')\n",
    "monthly_df_daily_returns = monthly_df.pct_change()"
   ]
  },
  {
   "cell_type": "code",
   "execution_count": 3,
   "metadata": {},
   "outputs": [
    {
     "data": {
      "text/html": [
       "<div>\n",
       "<style scoped>\n",
       "    .dataframe tbody tr th:only-of-type {\n",
       "        vertical-align: middle;\n",
       "    }\n",
       "\n",
       "    .dataframe tbody tr th {\n",
       "        vertical-align: top;\n",
       "    }\n",
       "\n",
       "    .dataframe thead th {\n",
       "        text-align: right;\n",
       "    }\n",
       "</style>\n",
       "<table border=\"1\" class=\"dataframe\">\n",
       "  <thead>\n",
       "    <tr style=\"text-align: right;\">\n",
       "      <th></th>\n",
       "      <th>DXC</th>\n",
       "      <th>BBY</th>\n",
       "      <th>AMG</th>\n",
       "      <th>CNP</th>\n",
       "      <th>WMT</th>\n",
       "      <th>MRK</th>\n",
       "      <th>NEM</th>\n",
       "      <th>VFC</th>\n",
       "      <th>MDT</th>\n",
       "      <th>HST</th>\n",
       "      <th>...</th>\n",
       "      <th>UNH</th>\n",
       "      <th>HSY</th>\n",
       "      <th>FB</th>\n",
       "      <th>EIX</th>\n",
       "      <th>SBUX</th>\n",
       "      <th>MCO</th>\n",
       "      <th>HII</th>\n",
       "      <th>RL</th>\n",
       "      <th>LNT</th>\n",
       "      <th>AXP</th>\n",
       "    </tr>\n",
       "    <tr>\n",
       "      <th>Date</th>\n",
       "      <th></th>\n",
       "      <th></th>\n",
       "      <th></th>\n",
       "      <th></th>\n",
       "      <th></th>\n",
       "      <th></th>\n",
       "      <th></th>\n",
       "      <th></th>\n",
       "      <th></th>\n",
       "      <th></th>\n",
       "      <th></th>\n",
       "      <th></th>\n",
       "      <th></th>\n",
       "      <th></th>\n",
       "      <th></th>\n",
       "      <th></th>\n",
       "      <th></th>\n",
       "      <th></th>\n",
       "      <th></th>\n",
       "      <th></th>\n",
       "      <th></th>\n",
       "    </tr>\n",
       "  </thead>\n",
       "  <tbody>\n",
       "    <tr>\n",
       "      <th>2/27/2015</th>\n",
       "      <td>NaN</td>\n",
       "      <td>NaN</td>\n",
       "      <td>NaN</td>\n",
       "      <td>NaN</td>\n",
       "      <td>NaN</td>\n",
       "      <td>NaN</td>\n",
       "      <td>NaN</td>\n",
       "      <td>NaN</td>\n",
       "      <td>NaN</td>\n",
       "      <td>NaN</td>\n",
       "      <td>...</td>\n",
       "      <td>NaN</td>\n",
       "      <td>NaN</td>\n",
       "      <td>NaN</td>\n",
       "      <td>NaN</td>\n",
       "      <td>NaN</td>\n",
       "      <td>NaN</td>\n",
       "      <td>NaN</td>\n",
       "      <td>NaN</td>\n",
       "      <td>NaN</td>\n",
       "      <td>NaN</td>\n",
       "    </tr>\n",
       "    <tr>\n",
       "      <th>3/31/2015</th>\n",
       "      <td>-0.072857</td>\n",
       "      <td>-0.002622</td>\n",
       "      <td>-0.007578</td>\n",
       "      <td>-0.018278</td>\n",
       "      <td>-0.014131</td>\n",
       "      <td>-0.010162</td>\n",
       "      <td>-0.174545</td>\n",
       "      <td>-0.013202</td>\n",
       "      <td>0.009122</td>\n",
       "      <td>-0.029476</td>\n",
       "      <td>...</td>\n",
       "      <td>0.044493</td>\n",
       "      <td>-0.027654</td>\n",
       "      <td>0.041155</td>\n",
       "      <td>-0.021137</td>\n",
       "      <td>0.012942</td>\n",
       "      <td>0.070765</td>\n",
       "      <td>-0.005552</td>\n",
       "      <td>-0.039418</td>\n",
       "      <td>-0.009434</td>\n",
       "      <td>-0.039329</td>\n",
       "    </tr>\n",
       "    <tr>\n",
       "      <th>4/30/2015</th>\n",
       "      <td>-0.012714</td>\n",
       "      <td>-0.083091</td>\n",
       "      <td>0.052845</td>\n",
       "      <td>0.027437</td>\n",
       "      <td>-0.051064</td>\n",
       "      <td>0.036186</td>\n",
       "      <td>0.220175</td>\n",
       "      <td>-0.038242</td>\n",
       "      <td>-0.045391</td>\n",
       "      <td>-0.001982</td>\n",
       "      <td>...</td>\n",
       "      <td>-0.058247</td>\n",
       "      <td>-0.089090</td>\n",
       "      <td>-0.041961</td>\n",
       "      <td>-0.024492</td>\n",
       "      <td>0.047096</td>\n",
       "      <td>0.035838</td>\n",
       "      <td>-0.061077</td>\n",
       "      <td>0.014524</td>\n",
       "      <td>-0.031611</td>\n",
       "      <td>-0.008577</td>\n",
       "    </tr>\n",
       "    <tr>\n",
       "      <th>5/31/2015</th>\n",
       "      <td>0.000000</td>\n",
       "      <td>0.000000</td>\n",
       "      <td>0.000000</td>\n",
       "      <td>0.000000</td>\n",
       "      <td>0.000000</td>\n",
       "      <td>0.000000</td>\n",
       "      <td>0.000000</td>\n",
       "      <td>0.000000</td>\n",
       "      <td>0.000000</td>\n",
       "      <td>0.000000</td>\n",
       "      <td>...</td>\n",
       "      <td>0.000000</td>\n",
       "      <td>0.000000</td>\n",
       "      <td>0.000000</td>\n",
       "      <td>0.000000</td>\n",
       "      <td>0.000000</td>\n",
       "      <td>0.000000</td>\n",
       "      <td>0.000000</td>\n",
       "      <td>0.000000</td>\n",
       "      <td>0.000000</td>\n",
       "      <td>0.000000</td>\n",
       "    </tr>\n",
       "    <tr>\n",
       "      <th>6/30/2015</th>\n",
       "      <td>0.025611</td>\n",
       "      <td>-0.052519</td>\n",
       "      <td>-0.033299</td>\n",
       "      <td>-0.081165</td>\n",
       "      <td>-0.085489</td>\n",
       "      <td>-0.036887</td>\n",
       "      <td>-0.117304</td>\n",
       "      <td>-0.032477</td>\n",
       "      <td>0.000349</td>\n",
       "      <td>-0.005595</td>\n",
       "      <td>...</td>\n",
       "      <td>0.099791</td>\n",
       "      <td>-0.028147</td>\n",
       "      <td>0.088866</td>\n",
       "      <td>-0.081105</td>\n",
       "      <td>0.084925</td>\n",
       "      <td>0.007206</td>\n",
       "      <td>-0.141581</td>\n",
       "      <td>-0.004303</td>\n",
       "      <td>-0.045477</td>\n",
       "      <td>0.007241</td>\n",
       "    </tr>\n",
       "  </tbody>\n",
       "</table>\n",
       "<p>5 rows × 100 columns</p>\n",
       "</div>"
      ],
      "text/plain": [
       "                DXC       BBY       AMG       CNP       WMT       MRK  \\\n",
       "Date                                                                    \n",
       "2/27/2015       NaN       NaN       NaN       NaN       NaN       NaN   \n",
       "3/31/2015 -0.072857 -0.002622 -0.007578 -0.018278 -0.014131 -0.010162   \n",
       "4/30/2015 -0.012714 -0.083091  0.052845  0.027437 -0.051064  0.036186   \n",
       "5/31/2015  0.000000  0.000000  0.000000  0.000000  0.000000  0.000000   \n",
       "6/30/2015  0.025611 -0.052519 -0.033299 -0.081165 -0.085489 -0.036887   \n",
       "\n",
       "                NEM       VFC       MDT       HST  ...       UNH       HSY  \\\n",
       "Date                                               ...                       \n",
       "2/27/2015       NaN       NaN       NaN       NaN  ...       NaN       NaN   \n",
       "3/31/2015 -0.174545 -0.013202  0.009122 -0.029476  ...  0.044493 -0.027654   \n",
       "4/30/2015  0.220175 -0.038242 -0.045391 -0.001982  ... -0.058247 -0.089090   \n",
       "5/31/2015  0.000000  0.000000  0.000000  0.000000  ...  0.000000  0.000000   \n",
       "6/30/2015 -0.117304 -0.032477  0.000349 -0.005595  ...  0.099791 -0.028147   \n",
       "\n",
       "                 FB       EIX      SBUX       MCO       HII        RL  \\\n",
       "Date                                                                    \n",
       "2/27/2015       NaN       NaN       NaN       NaN       NaN       NaN   \n",
       "3/31/2015  0.041155 -0.021137  0.012942  0.070765 -0.005552 -0.039418   \n",
       "4/30/2015 -0.041961 -0.024492  0.047096  0.035838 -0.061077  0.014524   \n",
       "5/31/2015  0.000000  0.000000  0.000000  0.000000  0.000000  0.000000   \n",
       "6/30/2015  0.088866 -0.081105  0.084925  0.007206 -0.141581 -0.004303   \n",
       "\n",
       "                LNT       AXP  \n",
       "Date                           \n",
       "2/27/2015       NaN       NaN  \n",
       "3/31/2015 -0.009434 -0.039329  \n",
       "4/30/2015 -0.031611 -0.008577  \n",
       "5/31/2015  0.000000  0.000000  \n",
       "6/30/2015 -0.045477  0.007241  \n",
       "\n",
       "[5 rows x 100 columns]"
      ]
     },
     "execution_count": 3,
     "metadata": {},
     "output_type": "execute_result"
    }
   ],
   "source": [
    "monthly_df_daily_returns.head()"
   ]
  },
  {
   "cell_type": "code",
   "execution_count": 4,
   "metadata": {},
   "outputs": [
    {
     "data": {
      "text/plain": [
       "(59, 100)"
      ]
     },
     "execution_count": 4,
     "metadata": {},
     "output_type": "execute_result"
    }
   ],
   "source": [
    "monthly_df_daily_returns.shape"
   ]
  },
  {
   "cell_type": "code",
   "execution_count": 5,
   "metadata": {},
   "outputs": [
    {
     "data": {
      "text/plain": [
       "(58, 100)"
      ]
     },
     "execution_count": 5,
     "metadata": {},
     "output_type": "execute_result"
    }
   ],
   "source": [
    "monthly_df_daily_returns.dropna(inplace = True)\n",
    "monthly_df_daily_returns.shape"
   ]
  },
  {
   "cell_type": "code",
   "execution_count": 6,
   "metadata": {},
   "outputs": [],
   "source": [
    "monthly_df_daily_returns.index = pd.DatetimeIndex(monthly_df_daily_returns.index)"
   ]
  },
  {
   "cell_type": "code",
   "execution_count": 7,
   "metadata": {},
   "outputs": [
    {
     "data": {
      "text/plain": [
       "DatetimeIndex(['2015-03-31', '2015-04-30', '2015-05-31', '2015-06-30',\n",
       "               '2015-07-31', '2015-08-31', '2015-09-30', '2015-10-31',\n",
       "               '2015-11-30', '2015-12-31', '2016-01-31', '2016-02-29',\n",
       "               '2016-03-31', '2016-04-30', '2016-05-31', '2016-06-30',\n",
       "               '2016-07-31', '2016-08-31', '2016-09-30', '2016-10-31',\n",
       "               '2016-11-30', '2016-12-31', '2017-01-31', '2017-02-28',\n",
       "               '2017-03-31', '2017-04-30', '2017-05-31', '2017-06-30',\n",
       "               '2017-07-31', '2017-08-31', '2017-09-30', '2017-10-31',\n",
       "               '2017-11-30', '2017-12-31', '2018-01-31', '2018-02-28',\n",
       "               '2018-03-31', '2018-04-30', '2018-05-31', '2018-06-30',\n",
       "               '2018-07-31', '2018-08-31', '2018-09-30', '2018-10-31',\n",
       "               '2018-11-30', '2018-12-31', '2019-01-31', '2019-02-28',\n",
       "               '2019-03-31', '2019-04-30', '2019-05-31', '2019-06-30',\n",
       "               '2019-07-31', '2019-08-31', '2019-09-30', '2019-10-31',\n",
       "               '2019-11-30', '2019-12-31'],\n",
       "              dtype='datetime64[ns]', name='Date', freq=None)"
      ]
     },
     "execution_count": 7,
     "metadata": {},
     "output_type": "execute_result"
    }
   ],
   "source": [
    "monthly_df_daily_returns.index"
   ]
  },
  {
   "cell_type": "code",
   "execution_count": 8,
   "metadata": {},
   "outputs": [
    {
     "data": {
      "text/plain": [
       "(58, 4)"
      ]
     },
     "execution_count": 8,
     "metadata": {},
     "output_type": "execute_result"
    }
   ],
   "source": [
    "ffm_csv_path = Path('F-F_Research_Data_Factors.csv')\n",
    "ffm_data = pd.read_csv(ffm_csv_path, index_col='Date')\n",
    "ffm_data.shape"
   ]
  },
  {
   "cell_type": "code",
   "execution_count": 9,
   "metadata": {},
   "outputs": [
    {
     "data": {
      "text/plain": [
       "Index(['3/31/15', '4/30/15', '5/31/15', '6/30/15', '7/31/15', '8/31/15',\n",
       "       '9/30/15', '10/31/15', '11/30/15', '12/31/15', '1/31/16', '2/29/16',\n",
       "       '3/31/16', '4/30/16', '5/31/16', '6/30/16', '7/31/16', '8/31/16',\n",
       "       '9/30/16', '10/31/16', '11/30/16', '12/31/16', '1/31/17', '2/28/17',\n",
       "       '3/31/17', '4/30/17', '5/31/17', '6/30/17', '7/31/17', '8/31/17',\n",
       "       '9/30/17', '10/31/17', '11/30/17', '12/31/17', '1/31/18', '2/28/18',\n",
       "       '3/31/18', '4/30/18', '5/31/18', '6/30/18', '7/31/18', '8/31/18',\n",
       "       '9/30/18', '10/31/18', '11/30/18', '12/31/18', '1/31/19', '2/28/19',\n",
       "       '3/31/19', '4/30/19', '5/31/19', '6/30/19', '7/31/19', '8/31/19',\n",
       "       '9/30/19', '10/31/19', '11/30/19', '12/31/19'],\n",
       "      dtype='object', name='Date')"
      ]
     },
     "execution_count": 9,
     "metadata": {},
     "output_type": "execute_result"
    }
   ],
   "source": [
    "ffm_data.index"
   ]
  },
  {
   "cell_type": "code",
   "execution_count": 10,
   "metadata": {},
   "outputs": [],
   "source": [
    "ffm_data.index = pd.DatetimeIndex(ffm_data.index)"
   ]
  },
  {
   "cell_type": "code",
   "execution_count": 11,
   "metadata": {},
   "outputs": [],
   "source": [
    "reg = linear_model.LinearRegression()"
   ]
  },
  {
   "cell_type": "code",
   "execution_count": 12,
   "metadata": {},
   "outputs": [],
   "source": [
    "reg = linear_model.LinearRegression()\n",
    "fit = reg.fit(X=ffm_data[['SMB','HML','RF']],\n",
    "              y=monthly_df_daily_returns.AAPL)"
   ]
  },
  {
   "cell_type": "code",
   "execution_count": 13,
   "metadata": {},
   "outputs": [
    {
     "data": {
      "text/plain": [
       "array([ 0.00493159, -0.00134568,  0.15507276])"
      ]
     },
     "execution_count": 13,
     "metadata": {},
     "output_type": "execute_result"
    }
   ],
   "source": [
    "fit.coef_"
   ]
  },
  {
   "cell_type": "code",
   "execution_count": 14,
   "metadata": {},
   "outputs": [],
   "source": [
    "import statsmodels.api as sm\n",
    "from statsmodels.regression import linear_model as lm"
   ]
  },
  {
   "cell_type": "code",
   "execution_count": 18,
   "metadata": {},
   "outputs": [],
   "source": [
    "temp_var = results_dict['AAPL']"
   ]
  },
  {
   "cell_type": "code",
   "execution_count": 29,
   "metadata": {},
   "outputs": [],
   "source": [
    "results_dict = {}\n",
    "params = {}\n",
    "\n",
    "for ticker in monthly_df_daily_returns.columns:\n",
    "    results_dict[ticker] = lm.OLS(endog=monthly_df_daily_returns.loc[:,ticker],\n",
    "                  exog=sm.add_constant(ffm_data[['Mkt-RF','SMB','HML']])).fit()\n",
    "    \n",
    "    params[ticker] = results_dict[ticker].params"
   ]
  },
  {
   "cell_type": "code",
   "execution_count": 33,
   "metadata": {},
   "outputs": [],
   "source": [
    "# params"
   ]
  },
  {
   "cell_type": "code",
   "execution_count": 46,
   "metadata": {},
   "outputs": [],
   "source": [
    "mkt_rf_mean = ffm_data['Mkt-RF'].mean()\n",
    "smb_mean = ffm_data['SMB'].mean()\n",
    "hml_mean = ffm_data['HML'].mean()\n",
    "rf_mean = ffm_data['RF'].mean()"
   ]
  },
  {
   "cell_type": "code",
   "execution_count": 60,
   "metadata": {},
   "outputs": [
    {
     "data": {
      "text/plain": [
       "0.867758620689655"
      ]
     },
     "execution_count": 60,
     "metadata": {},
     "output_type": "execute_result"
    }
   ],
   "source": [
    "mkt_rf_mean"
   ]
  },
  {
   "cell_type": "code",
   "execution_count": 61,
   "metadata": {},
   "outputs": [
    {
     "data": {
      "text/plain": [
       "-0.14310344827586208"
      ]
     },
     "execution_count": 61,
     "metadata": {},
     "output_type": "execute_result"
    }
   ],
   "source": [
    "smb_mean"
   ]
  },
  {
   "cell_type": "code",
   "execution_count": 62,
   "metadata": {},
   "outputs": [
    {
     "data": {
      "text/plain": [
       "-0.2867241379310345"
      ]
     },
     "execution_count": 62,
     "metadata": {},
     "output_type": "execute_result"
    }
   ],
   "source": [
    "hml_mean"
   ]
  },
  {
   "cell_type": "code",
   "execution_count": 63,
   "metadata": {},
   "outputs": [
    {
     "data": {
      "text/plain": [
       "0.08482758620689657"
      ]
     },
     "execution_count": 63,
     "metadata": {},
     "output_type": "execute_result"
    }
   ],
   "source": [
    "rf_mean"
   ]
  },
  {
   "cell_type": "code",
   "execution_count": 32,
   "metadata": {},
   "outputs": [
    {
     "data": {
      "text/html": [
       "<div>\n",
       "<style scoped>\n",
       "    .dataframe tbody tr th:only-of-type {\n",
       "        vertical-align: middle;\n",
       "    }\n",
       "\n",
       "    .dataframe tbody tr th {\n",
       "        vertical-align: top;\n",
       "    }\n",
       "\n",
       "    .dataframe thead th {\n",
       "        text-align: right;\n",
       "    }\n",
       "</style>\n",
       "<table border=\"1\" class=\"dataframe\">\n",
       "  <thead>\n",
       "    <tr style=\"text-align: right;\">\n",
       "      <th></th>\n",
       "      <th>Mkt-RF</th>\n",
       "      <th>const</th>\n",
       "      <th>SMB</th>\n",
       "      <th>HML</th>\n",
       "    </tr>\n",
       "  </thead>\n",
       "  <tbody>\n",
       "    <tr>\n",
       "      <th>DXC</th>\n",
       "      <td>0.013842</td>\n",
       "      <td>0.002706</td>\n",
       "      <td>0.002172</td>\n",
       "      <td>-0.008095</td>\n",
       "    </tr>\n",
       "    <tr>\n",
       "      <th>BBY</th>\n",
       "      <td>0.010798</td>\n",
       "      <td>0.012832</td>\n",
       "      <td>-0.002496</td>\n",
       "      <td>0.004890</td>\n",
       "    </tr>\n",
       "    <tr>\n",
       "      <th>AMG</th>\n",
       "      <td>0.013692</td>\n",
       "      <td>-0.022845</td>\n",
       "      <td>0.001884</td>\n",
       "      <td>0.004121</td>\n",
       "    </tr>\n",
       "    <tr>\n",
       "      <th>CNP</th>\n",
       "      <td>0.005030</td>\n",
       "      <td>0.004366</td>\n",
       "      <td>-0.003110</td>\n",
       "      <td>-0.000354</td>\n",
       "    </tr>\n",
       "    <tr>\n",
       "      <th>WMT</th>\n",
       "      <td>0.007069</td>\n",
       "      <td>0.002256</td>\n",
       "      <td>-0.009325</td>\n",
       "      <td>0.000529</td>\n",
       "    </tr>\n",
       "    <tr>\n",
       "      <th>...</th>\n",
       "      <td>...</td>\n",
       "      <td>...</td>\n",
       "      <td>...</td>\n",
       "      <td>...</td>\n",
       "    </tr>\n",
       "    <tr>\n",
       "      <th>MCO</th>\n",
       "      <td>0.010469</td>\n",
       "      <td>0.009035</td>\n",
       "      <td>0.001341</td>\n",
       "      <td>-0.002776</td>\n",
       "    </tr>\n",
       "    <tr>\n",
       "      <th>HII</th>\n",
       "      <td>0.008342</td>\n",
       "      <td>0.006134</td>\n",
       "      <td>-0.001670</td>\n",
       "      <td>0.000354</td>\n",
       "    </tr>\n",
       "    <tr>\n",
       "      <th>RL</th>\n",
       "      <td>0.008712</td>\n",
       "      <td>-0.002597</td>\n",
       "      <td>0.005644</td>\n",
       "      <td>0.004002</td>\n",
       "    </tr>\n",
       "    <tr>\n",
       "      <th>LNT</th>\n",
       "      <td>0.003400</td>\n",
       "      <td>0.009248</td>\n",
       "      <td>-0.003552</td>\n",
       "      <td>-0.001040</td>\n",
       "    </tr>\n",
       "    <tr>\n",
       "      <th>AXP</th>\n",
       "      <td>0.007804</td>\n",
       "      <td>0.004298</td>\n",
       "      <td>-0.001631</td>\n",
       "      <td>0.003942</td>\n",
       "    </tr>\n",
       "  </tbody>\n",
       "</table>\n",
       "<p>100 rows × 4 columns</p>\n",
       "</div>"
      ],
      "text/plain": [
       "       Mkt-RF     const       SMB       HML\n",
       "DXC  0.013842  0.002706  0.002172 -0.008095\n",
       "BBY  0.010798  0.012832 -0.002496  0.004890\n",
       "AMG  0.013692 -0.022845  0.001884  0.004121\n",
       "CNP  0.005030  0.004366 -0.003110 -0.000354\n",
       "WMT  0.007069  0.002256 -0.009325  0.000529\n",
       "..        ...       ...       ...       ...\n",
       "MCO  0.010469  0.009035  0.001341 -0.002776\n",
       "HII  0.008342  0.006134 -0.001670  0.000354\n",
       "RL   0.008712 -0.002597  0.005644  0.004002\n",
       "LNT  0.003400  0.009248 -0.003552 -0.001040\n",
       "AXP  0.007804  0.004298 -0.001631  0.003942\n",
       "\n",
       "[100 rows x 4 columns]"
      ]
     },
     "execution_count": 32,
     "metadata": {},
     "output_type": "execute_result"
    }
   ],
   "source": [
    "ffm_constants = pd.DataFrame.from_dict(params, orient='index',\n",
    "                       columns=['Mkt-RF','const', 'SMB', 'HML'])\n",
    "ffm_constants"
   ]
  },
  {
   "cell_type": "code",
   "execution_count": 48,
   "metadata": {},
   "outputs": [],
   "source": [
    "ffm_returns = ffm_constants['const'] + ffm_constants['Mkt-RF'] * mkt_rf_mean + ffm_constants['SMB'] * smb_mean + ffm_constants['HML'] * hml_mean + rf_mean"
   ]
  },
  {
   "cell_type": "code",
   "execution_count": 59,
   "metadata": {},
   "outputs": [
    {
     "data": {
      "text/plain": [
       "ADBE    0.111459\n",
       "MSFT    0.110854\n",
       "CTAS    0.107810\n",
       "BBY     0.105985\n",
       "SNPS    0.105561\n",
       "FISV    0.104805\n",
       "UNH     0.104237\n",
       "FB      0.103878\n",
       "RMD     0.103672\n",
       "AAPL    0.103650\n",
       "MCO     0.103551\n",
       "BSX     0.103468\n",
       "BA      0.103416\n",
       "MTD     0.103387\n",
       "MSI     0.103268\n",
       "OKE     0.103158\n",
       "NEE     0.102978\n",
       "ACN     0.102797\n",
       "TXN     0.102722\n",
       "TMO     0.102596\n",
       "dtype: float64"
      ]
     },
     "execution_count": 59,
     "metadata": {},
     "output_type": "execute_result"
    }
   ],
   "source": [
    "ffm_returns.sort_values(ascending = False, inplace = True)\n",
    "ffm_returns.head(20)"
   ]
  },
  {
   "cell_type": "code",
   "execution_count": null,
   "metadata": {},
   "outputs": [],
   "source": []
  }
 ],
 "metadata": {
  "kernelspec": {
   "display_name": "Python 3",
   "language": "python",
   "name": "python3"
  },
  "language_info": {
   "codemirror_mode": {
    "name": "ipython",
    "version": 3
   },
   "file_extension": ".py",
   "mimetype": "text/x-python",
   "name": "python",
   "nbconvert_exporter": "python",
   "pygments_lexer": "ipython3",
   "version": "3.7.4"
  }
 },
 "nbformat": 4,
 "nbformat_minor": 4
}
