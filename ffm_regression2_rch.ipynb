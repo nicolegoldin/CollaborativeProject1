{
 "cells": [
  {
   "cell_type": "code",
   "execution_count": 1,
   "metadata": {},
   "outputs": [],
   "source": [
    "import pandas as pd\n",
    "import numpy as np\n",
    "from sklearn import linear_model\n",
    "from pathlib import Path\n",
    "import csv\n"
   ]
  },
  {
   "cell_type": "code",
   "execution_count": 2,
   "metadata": {},
   "outputs": [],
   "source": [
    "stock_csv_path = Path('monthly_data.csv')\n",
    "monthly_df = pd.read_csv(stock_csv_path, index_col = 'Date')\n",
    "monthly_df_daily_returns = monthly_df.pct_change()"
   ]
  },
  {
   "cell_type": "code",
   "execution_count": 3,
   "metadata": {},
   "outputs": [
    {
     "data": {
      "text/html": [
       "<div>\n",
       "<style scoped>\n",
       "    .dataframe tbody tr th:only-of-type {\n",
       "        vertical-align: middle;\n",
       "    }\n",
       "\n",
       "    .dataframe tbody tr th {\n",
       "        vertical-align: top;\n",
       "    }\n",
       "\n",
       "    .dataframe thead th {\n",
       "        text-align: right;\n",
       "    }\n",
       "</style>\n",
       "<table border=\"1\" class=\"dataframe\">\n",
       "  <thead>\n",
       "    <tr style=\"text-align: right;\">\n",
       "      <th></th>\n",
       "      <th>DXC</th>\n",
       "      <th>BBY</th>\n",
       "      <th>AMG</th>\n",
       "      <th>CNP</th>\n",
       "      <th>WMT</th>\n",
       "      <th>MRK</th>\n",
       "      <th>NEM</th>\n",
       "      <th>VFC</th>\n",
       "      <th>MDT</th>\n",
       "      <th>HST</th>\n",
       "      <th>...</th>\n",
       "      <th>UNH</th>\n",
       "      <th>HSY</th>\n",
       "      <th>FB</th>\n",
       "      <th>EIX</th>\n",
       "      <th>SBUX</th>\n",
       "      <th>MCO</th>\n",
       "      <th>HII</th>\n",
       "      <th>RL</th>\n",
       "      <th>LNT</th>\n",
       "      <th>AXP</th>\n",
       "    </tr>\n",
       "    <tr>\n",
       "      <th>Date</th>\n",
       "      <th></th>\n",
       "      <th></th>\n",
       "      <th></th>\n",
       "      <th></th>\n",
       "      <th></th>\n",
       "      <th></th>\n",
       "      <th></th>\n",
       "      <th></th>\n",
       "      <th></th>\n",
       "      <th></th>\n",
       "      <th></th>\n",
       "      <th></th>\n",
       "      <th></th>\n",
       "      <th></th>\n",
       "      <th></th>\n",
       "      <th></th>\n",
       "      <th></th>\n",
       "      <th></th>\n",
       "      <th></th>\n",
       "      <th></th>\n",
       "      <th></th>\n",
       "    </tr>\n",
       "  </thead>\n",
       "  <tbody>\n",
       "    <tr>\n",
       "      <td>2/27/2015</td>\n",
       "      <td>NaN</td>\n",
       "      <td>NaN</td>\n",
       "      <td>NaN</td>\n",
       "      <td>NaN</td>\n",
       "      <td>NaN</td>\n",
       "      <td>NaN</td>\n",
       "      <td>NaN</td>\n",
       "      <td>NaN</td>\n",
       "      <td>NaN</td>\n",
       "      <td>NaN</td>\n",
       "      <td>...</td>\n",
       "      <td>NaN</td>\n",
       "      <td>NaN</td>\n",
       "      <td>NaN</td>\n",
       "      <td>NaN</td>\n",
       "      <td>NaN</td>\n",
       "      <td>NaN</td>\n",
       "      <td>NaN</td>\n",
       "      <td>NaN</td>\n",
       "      <td>NaN</td>\n",
       "      <td>NaN</td>\n",
       "    </tr>\n",
       "    <tr>\n",
       "      <td>3/31/2015</td>\n",
       "      <td>-0.072857</td>\n",
       "      <td>-0.002622</td>\n",
       "      <td>-0.007578</td>\n",
       "      <td>-0.018278</td>\n",
       "      <td>-0.014131</td>\n",
       "      <td>-0.010162</td>\n",
       "      <td>-0.174545</td>\n",
       "      <td>-0.013202</td>\n",
       "      <td>0.009122</td>\n",
       "      <td>-0.029476</td>\n",
       "      <td>...</td>\n",
       "      <td>0.044493</td>\n",
       "      <td>-0.027654</td>\n",
       "      <td>0.041155</td>\n",
       "      <td>-0.021137</td>\n",
       "      <td>0.012942</td>\n",
       "      <td>0.070765</td>\n",
       "      <td>-0.005552</td>\n",
       "      <td>-0.039418</td>\n",
       "      <td>-0.009434</td>\n",
       "      <td>-0.039329</td>\n",
       "    </tr>\n",
       "    <tr>\n",
       "      <td>4/30/2015</td>\n",
       "      <td>-0.012714</td>\n",
       "      <td>-0.083091</td>\n",
       "      <td>0.052845</td>\n",
       "      <td>0.027437</td>\n",
       "      <td>-0.051064</td>\n",
       "      <td>0.036186</td>\n",
       "      <td>0.220175</td>\n",
       "      <td>-0.038242</td>\n",
       "      <td>-0.045391</td>\n",
       "      <td>-0.001982</td>\n",
       "      <td>...</td>\n",
       "      <td>-0.058247</td>\n",
       "      <td>-0.089090</td>\n",
       "      <td>-0.041961</td>\n",
       "      <td>-0.024492</td>\n",
       "      <td>0.047096</td>\n",
       "      <td>0.035838</td>\n",
       "      <td>-0.061077</td>\n",
       "      <td>0.014524</td>\n",
       "      <td>-0.031611</td>\n",
       "      <td>-0.008577</td>\n",
       "    </tr>\n",
       "    <tr>\n",
       "      <td>5/31/2015</td>\n",
       "      <td>0.000000</td>\n",
       "      <td>0.000000</td>\n",
       "      <td>0.000000</td>\n",
       "      <td>0.000000</td>\n",
       "      <td>0.000000</td>\n",
       "      <td>0.000000</td>\n",
       "      <td>0.000000</td>\n",
       "      <td>0.000000</td>\n",
       "      <td>0.000000</td>\n",
       "      <td>0.000000</td>\n",
       "      <td>...</td>\n",
       "      <td>0.000000</td>\n",
       "      <td>0.000000</td>\n",
       "      <td>0.000000</td>\n",
       "      <td>0.000000</td>\n",
       "      <td>0.000000</td>\n",
       "      <td>0.000000</td>\n",
       "      <td>0.000000</td>\n",
       "      <td>0.000000</td>\n",
       "      <td>0.000000</td>\n",
       "      <td>0.000000</td>\n",
       "    </tr>\n",
       "    <tr>\n",
       "      <td>6/30/2015</td>\n",
       "      <td>0.025611</td>\n",
       "      <td>-0.052519</td>\n",
       "      <td>-0.033299</td>\n",
       "      <td>-0.081165</td>\n",
       "      <td>-0.085489</td>\n",
       "      <td>-0.036887</td>\n",
       "      <td>-0.117304</td>\n",
       "      <td>-0.032477</td>\n",
       "      <td>0.000349</td>\n",
       "      <td>-0.005595</td>\n",
       "      <td>...</td>\n",
       "      <td>0.099791</td>\n",
       "      <td>-0.028147</td>\n",
       "      <td>0.088866</td>\n",
       "      <td>-0.081105</td>\n",
       "      <td>0.084925</td>\n",
       "      <td>0.007206</td>\n",
       "      <td>-0.141581</td>\n",
       "      <td>-0.004303</td>\n",
       "      <td>-0.045477</td>\n",
       "      <td>0.007241</td>\n",
       "    </tr>\n",
       "  </tbody>\n",
       "</table>\n",
       "<p>5 rows × 100 columns</p>\n",
       "</div>"
      ],
      "text/plain": [
       "                DXC       BBY       AMG       CNP       WMT       MRK  \\\n",
       "Date                                                                    \n",
       "2/27/2015       NaN       NaN       NaN       NaN       NaN       NaN   \n",
       "3/31/2015 -0.072857 -0.002622 -0.007578 -0.018278 -0.014131 -0.010162   \n",
       "4/30/2015 -0.012714 -0.083091  0.052845  0.027437 -0.051064  0.036186   \n",
       "5/31/2015  0.000000  0.000000  0.000000  0.000000  0.000000  0.000000   \n",
       "6/30/2015  0.025611 -0.052519 -0.033299 -0.081165 -0.085489 -0.036887   \n",
       "\n",
       "                NEM       VFC       MDT       HST  ...       UNH       HSY  \\\n",
       "Date                                               ...                       \n",
       "2/27/2015       NaN       NaN       NaN       NaN  ...       NaN       NaN   \n",
       "3/31/2015 -0.174545 -0.013202  0.009122 -0.029476  ...  0.044493 -0.027654   \n",
       "4/30/2015  0.220175 -0.038242 -0.045391 -0.001982  ... -0.058247 -0.089090   \n",
       "5/31/2015  0.000000  0.000000  0.000000  0.000000  ...  0.000000  0.000000   \n",
       "6/30/2015 -0.117304 -0.032477  0.000349 -0.005595  ...  0.099791 -0.028147   \n",
       "\n",
       "                 FB       EIX      SBUX       MCO       HII        RL  \\\n",
       "Date                                                                    \n",
       "2/27/2015       NaN       NaN       NaN       NaN       NaN       NaN   \n",
       "3/31/2015  0.041155 -0.021137  0.012942  0.070765 -0.005552 -0.039418   \n",
       "4/30/2015 -0.041961 -0.024492  0.047096  0.035838 -0.061077  0.014524   \n",
       "5/31/2015  0.000000  0.000000  0.000000  0.000000  0.000000  0.000000   \n",
       "6/30/2015  0.088866 -0.081105  0.084925  0.007206 -0.141581 -0.004303   \n",
       "\n",
       "                LNT       AXP  \n",
       "Date                           \n",
       "2/27/2015       NaN       NaN  \n",
       "3/31/2015 -0.009434 -0.039329  \n",
       "4/30/2015 -0.031611 -0.008577  \n",
       "5/31/2015  0.000000  0.000000  \n",
       "6/30/2015 -0.045477  0.007241  \n",
       "\n",
       "[5 rows x 100 columns]"
      ]
     },
     "execution_count": 3,
     "metadata": {},
     "output_type": "execute_result"
    }
   ],
   "source": [
    "monthly_df_daily_returns.head()"
   ]
  },
  {
   "cell_type": "code",
   "execution_count": 4,
   "metadata": {},
   "outputs": [
    {
     "data": {
      "text/plain": [
       "(59, 100)"
      ]
     },
     "execution_count": 4,
     "metadata": {},
     "output_type": "execute_result"
    }
   ],
   "source": [
    "monthly_df_daily_returns.shape"
   ]
  },
  {
   "cell_type": "code",
   "execution_count": 5,
   "metadata": {},
   "outputs": [
    {
     "data": {
      "text/plain": [
       "(58, 100)"
      ]
     },
     "execution_count": 5,
     "metadata": {},
     "output_type": "execute_result"
    }
   ],
   "source": [
    "monthly_df_daily_returns.dropna(inplace = True)\n",
    "monthly_df_daily_returns.shape"
   ]
  },
  {
   "cell_type": "code",
   "execution_count": 6,
   "metadata": {},
   "outputs": [],
   "source": [
    "monthly_df_daily_returns.index = pd.DatetimeIndex(monthly_df_daily_returns.index)"
   ]
  },
  {
   "cell_type": "code",
   "execution_count": 7,
   "metadata": {},
   "outputs": [
    {
     "data": {
      "text/plain": [
       "DatetimeIndex(['2015-03-31', '2015-04-30', '2015-05-31', '2015-06-30',\n",
       "               '2015-07-31', '2015-08-31', '2015-09-30', '2015-10-31',\n",
       "               '2015-11-30', '2015-12-31', '2016-01-31', '2016-02-29',\n",
       "               '2016-03-31', '2016-04-30', '2016-05-31', '2016-06-30',\n",
       "               '2016-07-31', '2016-08-31', '2016-09-30', '2016-10-31',\n",
       "               '2016-11-30', '2016-12-31', '2017-01-31', '2017-02-28',\n",
       "               '2017-03-31', '2017-04-30', '2017-05-31', '2017-06-30',\n",
       "               '2017-07-31', '2017-08-31', '2017-09-30', '2017-10-31',\n",
       "               '2017-11-30', '2017-12-31', '2018-01-31', '2018-02-28',\n",
       "               '2018-03-31', '2018-04-30', '2018-05-31', '2018-06-30',\n",
       "               '2018-07-31', '2018-08-31', '2018-09-30', '2018-10-31',\n",
       "               '2018-11-30', '2018-12-31', '2019-01-31', '2019-02-28',\n",
       "               '2019-03-31', '2019-04-30', '2019-05-31', '2019-06-30',\n",
       "               '2019-07-31', '2019-08-31', '2019-09-30', '2019-10-31',\n",
       "               '2019-11-30', '2019-12-31'],\n",
       "              dtype='datetime64[ns]', name='Date', freq=None)"
      ]
     },
     "execution_count": 7,
     "metadata": {},
     "output_type": "execute_result"
    }
   ],
   "source": [
    "monthly_df_daily_returns.index"
   ]
  },
  {
   "cell_type": "code",
   "execution_count": 26,
   "metadata": {},
   "outputs": [
    {
     "data": {
      "text/plain": [
       "(58, 4)"
      ]
     },
     "execution_count": 26,
     "metadata": {},
     "output_type": "execute_result"
    }
   ],
   "source": [
    "ffm_csv_path = Path('F-F_Research_Data_Factors.csv')\n",
    "ffm_data = pd.read_csv(ffm_csv_path, index_col='Date')\n",
    "ffm_data.shape"
   ]
  },
  {
   "cell_type": "code",
   "execution_count": 27,
   "metadata": {},
   "outputs": [
    {
     "data": {
      "text/plain": [
       "Index(['3/31/15', '4/30/15', '5/31/15', '6/30/15', '7/31/15', '8/31/15',\n",
       "       '9/30/15', '10/31/15', '11/30/15', '12/31/15', '1/31/16', '2/29/16',\n",
       "       '3/31/16', '4/30/16', '5/31/16', '6/30/16', '7/31/16', '8/31/16',\n",
       "       '9/30/16', '10/31/16', '11/30/16', '12/31/16', '1/31/17', '2/28/17',\n",
       "       '3/31/17', '4/30/17', '5/31/17', '6/30/17', '7/31/17', '8/31/17',\n",
       "       '9/30/17', '10/31/17', '11/30/17', '12/31/17', '1/31/18', '2/28/18',\n",
       "       '3/31/18', '4/30/18', '5/31/18', '6/30/18', '7/31/18', '8/31/18',\n",
       "       '9/30/18', '10/31/18', '11/30/18', '12/31/18', '1/31/19', '2/28/19',\n",
       "       '3/31/19', '4/30/19', '5/31/19', '6/30/19', '7/31/19', '8/31/19',\n",
       "       '9/30/19', '10/31/19', '11/30/19', '12/31/19'],\n",
       "      dtype='object', name='Date')"
      ]
     },
     "execution_count": 27,
     "metadata": {},
     "output_type": "execute_result"
    }
   ],
   "source": [
    "ffm_data.index"
   ]
  },
  {
   "cell_type": "code",
   "execution_count": 28,
   "metadata": {},
   "outputs": [],
   "source": [
    "ffm_data.index = pd.DatetimeIndex(ffm_data.index)"
   ]
  },
  {
   "cell_type": "code",
   "execution_count": 29,
   "metadata": {},
   "outputs": [],
   "source": [
    "reg = linear_model.LinearRegression()"
   ]
  },
  {
   "cell_type": "code",
   "execution_count": 30,
   "metadata": {},
   "outputs": [],
   "source": [
    "reg = linear_model.LinearRegression()\n",
    "fit = reg.fit(X=ffm_data[['SMB','HML','RF']],\n",
    "              y=monthly_df_daily_returns.AAPL)"
   ]
  },
  {
   "cell_type": "code",
   "execution_count": 31,
   "metadata": {},
   "outputs": [
    {
     "data": {
      "text/plain": [
       "array([ 0.00493159, -0.00134568,  0.15507276])"
      ]
     },
     "execution_count": 31,
     "metadata": {},
     "output_type": "execute_result"
    }
   ],
   "source": [
    "fit.coef_"
   ]
  },
  {
   "cell_type": "code",
   "execution_count": 32,
   "metadata": {},
   "outputs": [],
   "source": [
    "import statsmodels.api as sm\n",
    "from statsmodels.regression import linear_model as lm"
   ]
  },
  {
   "cell_type": "code",
   "execution_count": 38,
   "metadata": {},
   "outputs": [],
   "source": [
    "temp_var = results_dict['AAPL']"
   ]
  },
  {
   "cell_type": "code",
   "execution_count": 40,
   "metadata": {},
   "outputs": [
    {
     "data": {
      "text/plain": [
       "<statsmodels.regression.linear_model.RegressionResultsWrapper at 0x1cd11be5208>"
      ]
     },
     "execution_count": 40,
     "metadata": {},
     "output_type": "execute_result"
    }
   ],
   "source": [
    "temp_var"
   ]
  },
  {
   "cell_type": "code",
   "execution_count": 41,
   "metadata": {},
   "outputs": [],
   "source": [
    "results_dict = {}\n",
    "params = {}\n",
    "\n",
    "for ticker in monthly_df_daily_returns.columns:\n",
    "    results_dict[ticker] = lm.OLS(endog=monthly_df_daily_returns.loc[:,ticker],\n",
    "                  exog=sm.add_constant(ffm_data[['SMB','HML','RF']])).fit()\n",
    "    \n",
    "    params[ticker] = results_dict[ticker].params"
   ]
  },
  {
   "cell_type": "code",
   "execution_count": 46,
   "metadata": {},
   "outputs": [
    {
     "ename": "AttributeError",
     "evalue": "'dict' object has no attribute 'head'",
     "output_type": "error",
     "traceback": [
      "\u001b[1;31m---------------------------------------------------------------------------\u001b[0m",
      "\u001b[1;31mAttributeError\u001b[0m                            Traceback (most recent call last)",
      "\u001b[1;32m<ipython-input-46-79f85e6fe217>\u001b[0m in \u001b[0;36m<module>\u001b[1;34m\u001b[0m\n\u001b[1;32m----> 1\u001b[1;33m \u001b[0mparams\u001b[0m\u001b[1;33m.\u001b[0m\u001b[0mhead\u001b[0m\u001b[1;33m(\u001b[0m\u001b[1;36m3\u001b[0m\u001b[1;33m)\u001b[0m\u001b[1;33m\u001b[0m\u001b[1;33m\u001b[0m\u001b[0m\n\u001b[0m",
      "\u001b[1;31mAttributeError\u001b[0m: 'dict' object has no attribute 'head'"
     ]
    }
   ],
   "source": [
    "params"
   ]
  },
  {
   "cell_type": "code",
   "execution_count": 43,
   "metadata": {},
   "outputs": [
    {
     "data": {
      "text/html": [
       "<div>\n",
       "<style scoped>\n",
       "    .dataframe tbody tr th:only-of-type {\n",
       "        vertical-align: middle;\n",
       "    }\n",
       "\n",
       "    .dataframe tbody tr th {\n",
       "        vertical-align: top;\n",
       "    }\n",
       "\n",
       "    .dataframe thead th {\n",
       "        text-align: right;\n",
       "    }\n",
       "</style>\n",
       "<table border=\"1\" class=\"dataframe\">\n",
       "  <thead>\n",
       "    <tr style=\"text-align: right;\">\n",
       "      <th></th>\n",
       "      <th>const</th>\n",
       "      <th>SMB</th>\n",
       "      <th>HML</th>\n",
       "      <th>RF</th>\n",
       "    </tr>\n",
       "  </thead>\n",
       "  <tbody>\n",
       "    <tr>\n",
       "      <td>DXC</td>\n",
       "      <td>0.054602</td>\n",
       "      <td>0.006667</td>\n",
       "      <td>-0.010830</td>\n",
       "      <td>-0.471852</td>\n",
       "    </tr>\n",
       "    <tr>\n",
       "      <td>BBY</td>\n",
       "      <td>0.019541</td>\n",
       "      <td>0.002211</td>\n",
       "      <td>0.004370</td>\n",
       "      <td>0.037560</td>\n",
       "    </tr>\n",
       "    <tr>\n",
       "      <td>AMG</td>\n",
       "      <td>0.000376</td>\n",
       "      <td>0.007329</td>\n",
       "      <td>0.002759</td>\n",
       "      <td>-0.129089</td>\n",
       "    </tr>\n",
       "    <tr>\n",
       "      <td>CNP</td>\n",
       "      <td>0.012997</td>\n",
       "      <td>-0.001113</td>\n",
       "      <td>-0.000859</td>\n",
       "      <td>-0.048640</td>\n",
       "    </tr>\n",
       "    <tr>\n",
       "      <td>WMT</td>\n",
       "      <td>-0.000909</td>\n",
       "      <td>-0.005975</td>\n",
       "      <td>0.000550</td>\n",
       "      <td>0.115350</td>\n",
       "    </tr>\n",
       "    <tr>\n",
       "      <td>...</td>\n",
       "      <td>...</td>\n",
       "      <td>...</td>\n",
       "      <td>...</td>\n",
       "      <td>...</td>\n",
       "    </tr>\n",
       "    <tr>\n",
       "      <td>MCO</td>\n",
       "      <td>0.010974</td>\n",
       "      <td>0.006066</td>\n",
       "      <td>-0.003062</td>\n",
       "      <td>0.091236</td>\n",
       "    </tr>\n",
       "    <tr>\n",
       "      <td>HII</td>\n",
       "      <td>0.019722</td>\n",
       "      <td>0.001667</td>\n",
       "      <td>-0.000449</td>\n",
       "      <td>-0.071924</td>\n",
       "    </tr>\n",
       "    <tr>\n",
       "      <td>RL</td>\n",
       "      <td>-0.008081</td>\n",
       "      <td>0.009828</td>\n",
       "      <td>0.004103</td>\n",
       "      <td>0.161168</td>\n",
       "    </tr>\n",
       "    <tr>\n",
       "      <td>LNT</td>\n",
       "      <td>0.009055</td>\n",
       "      <td>-0.001988</td>\n",
       "      <td>-0.001094</td>\n",
       "      <td>0.039521</td>\n",
       "    </tr>\n",
       "    <tr>\n",
       "      <td>AXP</td>\n",
       "      <td>0.001631</td>\n",
       "      <td>0.002037</td>\n",
       "      <td>0.003925</td>\n",
       "      <td>0.117401</td>\n",
       "    </tr>\n",
       "  </tbody>\n",
       "</table>\n",
       "<p>100 rows × 4 columns</p>\n",
       "</div>"
      ],
      "text/plain": [
       "        const       SMB       HML        RF\n",
       "DXC  0.054602  0.006667 -0.010830 -0.471852\n",
       "BBY  0.019541  0.002211  0.004370  0.037560\n",
       "AMG  0.000376  0.007329  0.002759 -0.129089\n",
       "CNP  0.012997 -0.001113 -0.000859 -0.048640\n",
       "WMT -0.000909 -0.005975  0.000550  0.115350\n",
       "..        ...       ...       ...       ...\n",
       "MCO  0.010974  0.006066 -0.003062  0.091236\n",
       "HII  0.019722  0.001667 -0.000449 -0.071924\n",
       "RL  -0.008081  0.009828  0.004103  0.161168\n",
       "LNT  0.009055 -0.001988 -0.001094  0.039521\n",
       "AXP  0.001631  0.002037  0.003925  0.117401\n",
       "\n",
       "[100 rows x 4 columns]"
      ]
     },
     "execution_count": 43,
     "metadata": {},
     "output_type": "execute_result"
    }
   ],
   "source": [
    "temp_df = pd.DataFrame.from_dict(params, orient='index', columns = ['const', 'SMB', 'HML', 'RF'])\n",
    "temp_df"
   ]
  },
  {
   "cell_type": "code",
   "execution_count": 44,
   "metadata": {},
   "outputs": [],
   "source": [
    "#temp_df_data = Path(\"../CollaborativeProject1/\")\n",
    "\n",
    "#temp_df.to_csv(Path\"../CollaborativeProject1\")\n",
    "\n",
    "temp_df.to_csv('params.csv')"
   ]
  },
  {
   "cell_type": "code",
   "execution_count": null,
   "metadata": {},
   "outputs": [],
   "source": []
  }
 ],
 "metadata": {
  "kernelspec": {
   "display_name": "Python 3",
   "language": "python",
   "name": "python3"
  },
  "language_info": {
   "codemirror_mode": {
    "name": "ipython",
    "version": 3
   },
   "file_extension": ".py",
   "mimetype": "text/x-python",
   "name": "python",
   "nbconvert_exporter": "python",
   "pygments_lexer": "ipython3",
   "version": "3.7.4"
  }
 },
 "nbformat": 4,
 "nbformat_minor": 4
}
